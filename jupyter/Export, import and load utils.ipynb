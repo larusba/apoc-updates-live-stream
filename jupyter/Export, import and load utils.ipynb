{
 "cells": [
  {
   "cell_type": "markdown",
   "id": "3724408e",
   "metadata": {},
   "source": [
    "<font size=\"6\">**APOC Library Updates**</font>\n",
    "\n",
    "We will take a look at some functions, procedures and features introduced in the last year or so:\n",
    "\n",
    "- Export and import of compressed files\n",
    "- Import binary data\n",
    "- Read js generated html \n",
    "- Read html as a string \n",
    "- Read and write with Redis\n",
    "- Read and write with Apache Arrow\n",
    "- Detect graph cycles\n",
    "- apoc.load.directory* procedures\n",
    "\n",
    "We will cover both APOC Core and Full/Extended functions/procedures.\n"
   ]
  },
  {
   "cell_type": "markdown",
   "id": "33f5748a",
   "metadata": {},
   "source": [
    "---\n",
    "\n",
    "### Setup\n",
    "\n",
    "- Neo4j 5.1.0 instance\n",
    "- APOC Core 5.1.0\n",
    "- APOC Extended 5.1.0 (Called APOC Full in 4.x.x version)\n",
    "\n",
    "#### Dataset\n",
    "\n",
    "- The one created via `:play movies`\n",
    "\n",
    "#### Notebook setup\n",
    "- cy2py: library to connect neo4j with jupyter\n",
    "    - ipython-cypher: to create cypher queries using `%%cypher` and `%cypher`\n",
    "    - cytoscape: graph visualization\n",
    "    - pandas: table visualization\n",
    "\n"
   ]
  },
  {
   "cell_type": "code",
   "execution_count": null,
   "id": "a46add44",
   "metadata": {},
   "outputs": [],
   "source": [
    "# table style\n",
    "import pandas\n",
    "pandas.set_option('display.max_colwidth', 500)\n",
    "pandas.set_option('html.use_mathjax', False)\n",
    "\n",
    "\n",
    "# custom node colors\n",
    "colors = {\n",
    "  ':Person': '#fffb00',\n",
    "  ':CompressedNode': 'red'\n",
    "}\n",
    "\n",
    "# custom graph layout\n",
    "layout = {\n",
    "    'layout': 'grid', \n",
    "    'padding': 100,\n",
    "    'nodeSpacing': 100\n",
    "}\n",
    "\n",
    "# custom node captions (default is `LabelName`)\n",
    "caption = {':CompressedNode': ['name']}\n",
    "\n",
    "# connect neo4j with jupyter\n",
    "%reload_ext cy2py\n",
    "\n",
    "# url and credential\n",
    "neo4j_url = \"bolt://localhost:7687\"\n",
    "neo4j_user = \"neo4j\"\n",
    "neo4j_pwd = \"apoc\"\n",
    "\n",
    "# we check the connections, set the above custom options and create the dataset\n",
    "%cypher -u $neo4j_url -us $neo4j_user -pw $neo4j_pwd \\\n",
    "    -co $colors -la $layout -ca $caption \\\n",
    "    call apoc.cypher.runFile('movies.cypher')"
   ]
  },
  {
   "cell_type": "markdown",
   "id": "b6293a56",
   "metadata": {},
   "source": [
    "# Export and import compressed files\n",
    "\n",
    "<span style=\"color:#33f\" size=\"7\"> ***For 4.4, introduced for both APOC Core and Full/Extended in 4.4.0.6*** </span>\n",
    "\n",
    "All `apoc.export.*` export procedures allows file compression,\n",
    "via a configuration parameter: `compression: <ALGO>`.\n",
    "\n",
    "Contrariwise, all `apoc.import.*` procedures and `apoc.load.*` procedures (except for `apoc.load.directory*`), \n",
    "allow the reading of a compressed file in the same way as for export .\n",
    "\n",
    "\n",
    "#### Possibile compression algorithms: \n",
    "\n",
    "- `NONE` (default)\n",
    "- `GZIP`\n",
    "- `BZIP2`\n",
    "- `DEFLATE`\n",
    "- `BLOCK_LZ4`\n",
    "- `FRAMED_SNAPPY`\n"
   ]
  },
  {
   "cell_type": "markdown",
   "id": "0e9ecdb6",
   "metadata": {},
   "source": [
    "## normal way"
   ]
  },
  {
   "cell_type": "code",
   "execution_count": null,
   "id": "141c9c03",
   "metadata": {},
   "outputs": [],
   "source": [
    "%%cypher\n",
    "\n",
    "match (n:Person) with collect(n) as people\n",
    "call apoc.export.csv.data(people, [], \"normal.csv\", {}) \n",
    "yield done return done"
   ]
  },
  {
   "cell_type": "markdown",
   "id": "1fb889cc",
   "metadata": {},
   "source": [
    "## compressed way\n",
    "\n"
   ]
  },
  {
   "cell_type": "code",
   "execution_count": null,
   "id": "dadc7aed",
   "metadata": {},
   "outputs": [],
   "source": [
    "%%cypher\n",
    "\n",
    "match (n:Person) with collect(n) as people\n",
    "call apoc.export.csv.data(people, [], \"compressed.csv.gz\", {compression: 'GZIP'})\n",
    "yield done return done"
   ]
  },
  {
   "cell_type": "markdown",
   "id": "2a1b68ff",
   "metadata": {},
   "source": [
    "## stream normal way"
   ]
  },
  {
   "cell_type": "code",
   "execution_count": null,
   "id": "296f40a1",
   "metadata": {},
   "outputs": [],
   "source": [
    "%%cypher\n",
    "\n",
    "// it returns a `String stream\n",
    "\n",
    "match (n:Person) with collect(n) as people\n",
    "call apoc.export.csv.data(people, [], null, \n",
    "            {stream: true})\n",
    "yield data return data"
   ]
  },
  {
   "cell_type": "markdown",
   "id": "fded3753",
   "metadata": {},
   "source": [
    "## stream compressed way"
   ]
  },
  {
   "cell_type": "code",
   "execution_count": null,
   "id": "6f822565",
   "metadata": {},
   "outputs": [],
   "source": [
    "%%cypher\n",
    "\n",
    "// it returns a `btye[]` stream\n",
    "\n",
    "match (n:Person) with collect(n) as people\n",
    "call apoc.export.csv.data(people, [], null, \n",
    "            {compression: 'GZIP', stream: true})\n",
    "yield data return data"
   ]
  },
  {
   "cell_type": "markdown",
   "id": "13ff4b95",
   "metadata": {},
   "source": [
    "## load and import compressed\n",
    "\n",
    "We can import or upload files in the same way as export.\n",
    "\n",
    "Anyway, we don't necessarily have to use the export with {`compression: ALGO}`, \n",
    "we can also manually compress a previously exported file with `{compression: NONE}`, for example via `gzip` terminal command.\n"
   ]
  },
  {
   "cell_type": "code",
   "execution_count": null,
   "id": "fa65bfc0",
   "metadata": {},
   "outputs": [],
   "source": [
    "%%cypher\n",
    "CALL apoc.load.csv('compressed.csv.gz', {compression: 'GZIP'})"
   ]
  },
  {
   "cell_type": "code",
   "execution_count": null,
   "id": "da61705c",
   "metadata": {},
   "outputs": [],
   "source": [
    "%%cypher\n",
    "CALL apoc.import.csv(\n",
    "    [{fileName: 'compressed.csv.gz', labels: ['CompressedNode']}], // nodes\n",
    "    [], // rels\n",
    "    {compression: 'GZIP'})"
   ]
  },
  {
   "cell_type": "code",
   "execution_count": null,
   "id": "355885d5",
   "metadata": {},
   "outputs": [],
   "source": [
    "%%cypher\n",
    "MATCH (n:CompressedNode) RETURN n"
   ]
  },
  {
   "cell_type": "markdown",
   "id": "a4e10f94",
   "metadata": {},
   "source": [
    "## Import and load archive\n",
    "\n",
    "APOC also provides the possibility to import an archive, \n",
    "both with compression, `tar.gz` or `.tgz`, and without, like `.zip` or `.tar`,\n",
    "which works differently from the single compressed file.\n",
    "\n",
    "For example, via `apoc.load.json`:\n",
    "```\n",
    "CALL apoc.load.json(\"pathToCompressedFile/file.<compressionExt>!pathToCsvFileInArchive/fileName.csv\")\n",
    "```\n",
    "\n",
    "So we don't have to specify `compression: ALGO`, \n",
    "but apoc automatically recognizes the archiving algorithm from the file extension, \n",
    "so we don't have to specify compression: ALGO, but apoc automatically recognizes the archiving algorithm from the file extension. \n",
    "Currently, the only supported extensions are `.tar`, `.tar.gz`, `.zip` and `.tar`.\n",
    "\n",
    "\n",
    "#### Note\n",
    "```\n",
    "Only from APOC 4.3.0.9 and 4.4.0.10, and 5.x the tar.gz, tgz and tar archives are supported.\n",
    "```\n"
   ]
  },
  {
   "cell_type": "code",
   "execution_count": null,
   "id": "fe61b944",
   "metadata": {},
   "outputs": [],
   "source": [
    "%%cypher\n",
    "\n",
    "// # testload.tar.gz contains a `person.json` file\n",
    "CALL apoc.load.json(\"testload.tar.gz!person.json\")"
   ]
  },
  {
   "cell_type": "markdown",
   "id": "dfb8425e",
   "metadata": {},
   "source": [
    "\n",
    "<hr style=\"border:1px solid #ccc\"> \n",
    "\n",
    "# String compression\n",
    "\n",
    "<span style=\"color:#33f\" size=\"7\"> ***For 4.4, introduced in APOC Core, 4.4.0.7*** </span>\n",
    "\n",
    "Useful for example, when we need to store large string values into Node or Relationships.\n",
    "\n",
    "Or also, to compress huge source data on a client and send the compressed byte arrays of data to the server, and then decompress, parse and process the file on the server.\n",
    "\n",
    "We can use the `apoc.util.compress` to compress a `string`.\n",
    "\n",
    "And vice versa, the `apoc.util.decompress` to read a compressed `byte[]`.\n",
    "\n",
    "\n",
    "We can use the same values as export/import `compression` configuration (but with default `\"GZIP\"`)\n",
    "\n"
   ]
  },
  {
   "cell_type": "code",
   "execution_count": null,
   "id": "d5a075e6",
   "metadata": {},
   "outputs": [],
   "source": [
    "%%cypher\n",
    "return apoc.util.compress(\"name,born\\nFoo,1999\\nBar,2001\")"
   ]
  },
  {
   "cell_type": "code",
   "execution_count": null,
   "id": "ef200ba7",
   "metadata": {},
   "outputs": [],
   "source": [
    "%%cypher\n",
    "return apoc.util.compress(\"name,born\\nFoo,1999\\nBar,2001\", {compression: 'DEFLATE'})"
   ]
  },
  {
   "cell_type": "code",
   "execution_count": null,
   "id": "88622c47",
   "metadata": {},
   "outputs": [],
   "source": [
    "%%cypher\n",
    "\n",
    "// # with compression \"NONE\", unlike the export procedures, it returns a `String.getBytes()`\n",
    "\n",
    "return apoc.util.compress(\"name,born\\nFoo,1999\\nBar,2001\", {compression: 'NONE'})"
   ]
  },
  {
   "cell_type": "markdown",
   "id": "e0043cd7",
   "metadata": {},
   "source": [
    "\n",
    "<hr style=\"border:1px solid #ccc\"> \n",
    "\n",
    "# Import and load binaries\n",
    "\n",
    "<span style=\"color:#33f\" size=\"7\"> ***For 4.4, introduced in both APOC Core and Full/Extended in 4.4.0.6*** </span>\n",
    "\n",
    "Besides importing a file from a url, \n",
    "we can pass a `byte[]` as a parameter.\n",
    "\n",
    "Useful for cloud where you cannot store files on File system or when you don't want to expose data in the internet.\n"
   ]
  },
  {
   "cell_type": "code",
   "execution_count": null,
   "id": "10b3cb14",
   "metadata": {},
   "outputs": [],
   "source": [
    "%%cypher\n",
    "\n",
    "// # transform a string in `byte[]`\n",
    "with apoc.util.compress('{\"name\": \"Foo\", \"born\": 2001} {\"name\": \"Bar\", \"born\": 2001}') \n",
    "as binaryJson\n",
    "\n",
    "// # read binary\n",
    "call apoc.load.json(binaryJson, \n",
    "                    null, // JsonPath parameter,\n",
    "                    {compression: 'GZIP'})\n",
    "yield value return value"
   ]
  },
  {
   "cell_type": "code",
   "execution_count": null,
   "id": "071e9720",
   "metadata": {},
   "outputs": [],
   "source": [
    "%%cypher\n",
    "\n",
    "// # With csv and DEFLATE algorithm\n",
    "\n",
    "with apoc.util.compress('name,born\\nFoo,1999\\nBar,2001', {compression: 'DEFLATE'}) as binaryJson\n",
    "\n",
    "// # read binary\n",
    "call apoc.load.csv(binaryJson,  {compression: 'DEFLATE'})\n",
    "yield list return list"
   ]
  },
  {
   "cell_type": "markdown",
   "id": "c3f7bf37",
   "metadata": {},
   "source": [
    "\n",
    "<hr style=\"border:1px solid #ccc\"> \n",
    "\n",
    "# Apache Arrow\n",
    "\n",
    "<span style=\"color:#33f\" size=\"7\"> ***For 4.4, introduced in APOC Core 4.4.0.4*** </span>\n",
    "\n",
    "[Apache Arrow](https://arrow.apache.org/) defines a language-independent columnar memory format for flat and hierarchical data, organized for efficient analytic operations.\n",
    "\n",
    "It's useful for interoperability with others Apache frameworks like Spark and Kafka.\n",
    "\n",
    "#### Note\n",
    "\n",
    "```\n",
    "In order to use this procedure we need to download an additional jar (not included in Apoc jars) from mvn repository\n",
    "https://mvnrepository.com/artifact/org.apache.arrow/arrow-memory-netty,\n",
    "and put in the `plugin` folder.\n",
    "```\n",
    "\n",
    "### Export procedures\n",
    "\n",
    "Similarly to other export procedures,\n",
    "there are 3 procedures to export to arrow (currently there is no export data, such as `apoc.export.csv.data`)\n",
    "\n",
    "- `apoc.export.arrow.all(file, $config)` - Exports the full database\n",
    "\n",
    "\n",
    "- `apoc.export.arrow.graph(file, graph, $config)` - Exports the given graph (i.e. `{nodes: [nodeList], relationships: [relList]}`)\n",
    "\n",
    "\n",
    "- `apoc.export.arrow.query(file, query, config)` - Exports the results from the given Cypher query\n",
    "\n",
    "### Export stream procedures:\n",
    "\n",
    "Conceptually similar e.g. to `apoc.export.csv.all(null, {stream: true, compression: '<ALGO>'})`, which streams a list of `byte[]` one per each batch, instead of exporting to a file:\n",
    "\n",
    "- `apoc.export.arrow.stream.all($config)`\n",
    "\n",
    "\n",
    "- `apoc.export.arrow.stream.graph(graph, $config)`\n",
    "\n",
    "\n",
    "- `apoc.export.arrow.stream.all(query, $config)`\n",
    "\n",
    "\n",
    "At this very moment, `$config` manages just one property, `batchSize`, with default `2000`.\n",
    "\n",
    "### Load procedures:\n",
    "\n",
    "It reads an `.arrow` file and returns a map for each row\n",
    "\n",
    "- `apoc.load.arrow(fileName)`\n",
    "\n",
    "### Load stream procedures:\n",
    "It reads an Arrow `byte[]` and returns a map for each row\n",
    "\n",
    "- `apoc.load.arrow.stream(bytes)`\n",
    "\n",
    "\n",
    "```\n",
    "Unlike csv, graphml and Json, there is no `apoc.import.arrow`, \n",
    "so we have to use the `apoc.load.arrow*` to create nodes, in case.\n",
    "```"
   ]
  },
  {
   "cell_type": "code",
   "execution_count": null,
   "id": "6039c8b0",
   "metadata": {},
   "outputs": [],
   "source": [
    "%%cypher\n",
    "\n",
    "// # export file\n",
    "CALL apoc.export.arrow.query('query_test.arrow', \"MATCH (n:Person) RETURN n\")\n"
   ]
  },
  {
   "cell_type": "code",
   "execution_count": null,
   "id": "73a24839",
   "metadata": {},
   "outputs": [],
   "source": [
    "%%cypher\n",
    "\n",
    "// # load file\n",
    "CALL apoc.load.arrow('query_test.arrow')"
   ]
  },
  {
   "cell_type": "code",
   "execution_count": null,
   "id": "5074eaf3",
   "metadata": {},
   "outputs": [],
   "source": [
    "%%cypher\n",
    "\n",
    "// # export stream of bytes[], based on `batchSize`\n",
    "\n",
    "MATCH (n:Person) \n",
    "WITH collect(n) as nodes\n",
    "CALL apoc.export.arrow.stream.graph({nodes: nodes, relationships: []}, {batchSize: 10})\n",
    "YIELD value RETURN value"
   ]
  },
  {
   "cell_type": "code",
   "execution_count": null,
   "id": "ebf88a79",
   "metadata": {},
   "outputs": [],
   "source": [
    "%%cypher\n",
    "\n",
    "// # roundtrip export-load stream\n",
    "\n",
    "CALL apoc.export.arrow.stream.query(\"MATCH (n:Person) RETURN n\")\n",
    "YIELD value\n",
    "WITH value as byteArray\n",
    "CALL apoc.load.arrow.stream(byteArray)\n",
    "YIELD value RETURN value"
   ]
  },
  {
   "cell_type": "markdown",
   "id": "7a46d985",
   "metadata": {},
   "source": [
    "<hr style=\"border:1px solid #ccc\"> \n",
    "\n",
    "# Load html with js generated code\n",
    "\n",
    "\n",
    "By default, the `apoc.load.html(url, selector, $config)` procedure uses the jsoup library to parse the html file:  https://jsoup.org/.\n",
    "\n",
    "\n",
    "\n",
    "But, with the following html, we cannot read the js generated code (i.e. the tag `h1`)\n",
    "```\n",
    "...\n",
    "<body>\n",
    "\t<div id=\"addStuff\"></div>\n",
    "\n",
    "\t<script type=\"text/javascript\">\n",
    "\t\tconst newTag = document.createElement(\"h1\");\n",
    "\t\tnewTag.innerText = \"This is a new tag\";\n",
    "\t\tdocument.getElementById(\"addStuff\").appendChild(newTag);\n",
    "\t</script>\n",
    "</body>\n",
    "...\n",
    "```\n",
    "\n",
    "To remedy these cases, we can leverage the [Selenium WebDriver](https://www.selenium.dev/)\n",
    "which is used for automating browsers (mostly for testing purpose).\n",
    "\n",
    "With this tool, we can open a browser in headless mode, i.e. without a graphical interface, with which to interpret the js inside the html file.\n",
    "\n",
    "So unlike jsoup, it is not just a parse.\n",
    "\n",
    "\n",
    "To do this, we can pass in `$config` the option `{browser: \"CHROME\"}` or `{browser: \"FIREFOX\"}`,\n",
    "in order to read html with auto-generated js.\n",
    "\n",
    "\n",
    "#### Note\n",
    "```\n",
    "In order to use this procedure we need to download an additional jar\n",
    "https://github.com/neo4j-contrib/neo4j-apoc-procedures/releases/download/<APOC_VERSION>/apoc-selenium-dependencies-<APOC_VERSION>-all.jar,\n",
    "and put in the `plugin` folder.\n",
    "\n",
    "So for example with apoc 5.1.0, `https://github.com/neo4j-contrib/neo4j-apoc-procedures/releases/download/5.1.0/apoc-selenium-dependencies-5.1.0-all.jar`.\n",
    "\n",
    "```\n",
    "\n",
    "\n",
    "#### Cons: \n",
    "\n",
    "- Leverage an installed browser, chrome or firefox, so it's slower.\n",
    "- Require additional jars. \n",
    "\n",
    "\n",
    "So if we don't need it, because we have to read an html that we know is static, \n",
    "better not to use it.\n",
    "\n",
    "\n"
   ]
  },
  {
   "cell_type": "code",
   "execution_count": null,
   "id": "1e12fa3d",
   "metadata": {},
   "outputs": [],
   "source": [
    "%%cypher\n",
    "\n",
    "// # file with the above js code\n",
    "// # we create a map {newNode: [listOfH1Tags]}\n",
    "CALL apoc.load.html(\"wikipediaWithJs.html\", {newNode: 'h1'}, {browser: 'CHROME'})"
   ]
  },
  {
   "cell_type": "code",
   "execution_count": null,
   "id": "eb44d459",
   "metadata": {},
   "outputs": [],
   "source": [
    "%%cypher\n",
    "\n",
    "// # default way\n",
    "\n",
    "CALL apoc.load.html(\"wikipediaWithJs.html\", {newNode: 'h1'}, {})"
   ]
  },
  {
   "cell_type": "markdown",
   "id": "745f77c5",
   "metadata": {},
   "source": [
    "Additionally, with `browser` equal to `CHROME` / `FIREFOX`, we can set optional various configurations which work like the configurations [described here](https://bonigarcia.dev/webdrivermanager/), in `Table 1. Configuration capabilities for driver management`, and have the same default values.\n",
    " \n",
    "The possible configs are:\n",
    "\n",
    "- `driverVersion`\n",
    "- `browserVersion`\n",
    "- `architecture`\n",
    "- `operatingSystem`\n",
    "- `driverRepositoryUrl`\n",
    "- `versionsPropertiesUrl`\n",
    "- `commandsPropertiesUrl`\n",
    "- `cachePath`\n",
    "- `resolutionCachePath`\n",
    "- `proxy`\n",
    "- `proxyUser`\n",
    "- `proxyPass`\n",
    "- `gitHubToken`\n",
    "- `forceDownload`\n",
    "- `useBetaVersions`\n",
    "- `useMirror`\n",
    "- `avoidExport`\n",
    "- `avoidOutputTree`\n",
    "- `clearDriverCache`\n",
    "- `clearResolutionCache`\n",
    "- `avoidFallback`\n",
    "- `avoidBrowserDetection`\n",
    "- `avoidReadReleaseFromRepository`\n",
    "- `avoidTmpFolder`\n",
    "- `useLocalVersionsPropertiesFirst`\n",
    "- `timeout`\n",
    "- `ttl`\n",
    "- `ttlBrowsers`"
   ]
  },
  {
   "cell_type": "code",
   "execution_count": null,
   "id": "967b33c5",
   "metadata": {},
   "outputs": [],
   "source": [
    "%%cypher\n",
    "\n",
    "// # Force downloading chrome driver (even if it is already in the cache) \n",
    "\n",
    "CALL apoc.load.html(\"wikipediaWithJs.html\", {newNode: 'p'}, \n",
    "            {browser: 'CHROME', forceDownload: true})"
   ]
  },
  {
   "cell_type": "markdown",
   "id": "50c68857",
   "metadata": {},
   "source": [
    "<hr style=\"border:1px solid #ccc\"> \n",
    "\n",
    "# Load html as a string\n",
    "\n",
    "<span style=\"color:#33f\" size=\"7\"> ***For 4.4, introduced in APOC Full 4.4.0.9*** </span>\n",
    "\n",
    "In addition to `apoc.load.html`, there is another procedure that works similarly \n",
    "and accepts the same parameter as apoc.load.html\n",
    "but returns a textual representation instead of a list of map describing the tag:\n",
    "\n",
    "`CALL apoc.load.htmlPlainText(uri, query, config)`\n"
   ]
  },
  {
   "cell_type": "code",
   "execution_count": null,
   "id": "64bf90c8",
   "metadata": {},
   "outputs": [],
   "source": [
    "%%cypher\n",
    "\n",
    "/*\n",
    "File content\n",
    "<body>\n",
    "    ....\n",
    "\n",
    "    <ul>\n",
    "        <li>one</li>\n",
    "        <li>two</li>\n",
    "        <li>three</li>\n",
    "    </ul>\n",
    "    <br>\n",
    "    <br>\n",
    "    <p>my paragraph</p>\n",
    "</body>\n",
    "*/\n",
    "\n",
    "with \"wikipediaWithJs.html\" as url\n",
    "\n",
    "call apoc.load.htmlPlainText(url, {content: \"body\"}) \n",
    "yield value \n",
    "with url, value.content as valueString // valueString gets a textual representation\n",
    "call apoc.load.html(url, {content: \"body\"}) \n",
    "yield value return valueString, value.content as valueListMap"
   ]
  },
  {
   "cell_type": "code",
   "execution_count": null,
   "id": "96517962",
   "metadata": {},
   "outputs": [],
   "source": [
    "%%cypher\n",
    "\n",
    "// # htmlPlainText with browser \n",
    "call apoc.load.htmlPlainText(\"wikipediaWithJs.html\", {content: \"h1\"}, {browser: \"CHROME\"}) "
   ]
  },
  {
   "cell_type": "markdown",
   "id": "764ecef1",
   "metadata": {},
   "source": [
    "### [NEXT CHAPTER](http://localhost:8888/notebooks/Read%2C%20write%20and%20other%20utils.ipynb)"
   ]
  }
 ],
 "metadata": {
  "kernelspec": {
   "display_name": "Python 3 (ipykernel)",
   "language": "python",
   "name": "python3"
  },
  "language_info": {
   "codemirror_mode": {
    "name": "ipython",
    "version": 3
   },
   "file_extension": ".py",
   "mimetype": "text/x-python",
   "name": "python",
   "nbconvert_exporter": "python",
   "pygments_lexer": "ipython3",
   "version": "3.9.13"
  }
 },
 "nbformat": 4,
 "nbformat_minor": 5
}
