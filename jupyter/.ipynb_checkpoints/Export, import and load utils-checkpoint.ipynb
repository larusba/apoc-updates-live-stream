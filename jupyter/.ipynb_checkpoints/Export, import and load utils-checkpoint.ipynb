{
 "cells": [
  {
   "cell_type": "markdown",
   "id": "3724408e",
   "metadata": {},
   "source": [
    "<font size=\"6\">**APOC Library Updates**</font>\n",
    "\n",
    "We will look at some functions, procedures and features introduced in the last year or so:\n",
    "\n",
    "- Export and import of compressed files\n",
    "- Import binary data\n",
    "- Read js generated html \n",
    "- Read and write with Redis\n",
    "- Read and write with Apache Arrow\n",
    "- Detect graph cycles\n",
    "- apoc.load.directory*"
   ]
  },
  {
   "cell_type": "markdown",
   "id": "33f5748a",
   "metadata": {},
   "source": [
    "---\n",
    "\n",
    "### Setup\n",
    "\n",
    "- Neo4j 5.1 instance\n",
    "- APOC Core 5.1.0\n",
    "- APOC Extended 5.1.0 (Called APOC Full in 4.x.x version)\n",
    "\n",
    "#### Dataset\n",
    "\n",
    "- The one created via `:play movies`\n",
    "\n",
    "#### Notebook setup\n",
    "- cy2py: to connect neo4j with jupyter\n",
    "    - cytoscape: graph visualization\n",
    "    - pandas: table visualization\n",
    "\n"
   ]
  },
  {
   "cell_type": "code",
   "execution_count": null,
   "id": "a46add44",
   "metadata": {},
   "outputs": [],
   "source": [
    "# table style\n",
    "import pandas\n",
    "pandas.set_option('display.max_colwidth', 500)\n",
    "pandas.set_option('html.use_mathjax', False)\n",
    "\n",
    "\n",
    "# custom node colors\n",
    "colors = {\n",
    "  ':Person': '#fffb00',\n",
    "  ':CompressedNode': 'red'\n",
    "}\n",
    "\n",
    "# custom graph layout\n",
    "layout = {\n",
    "    'layout': 'grid', \n",
    "    'padding': 100,\n",
    "    'nodeSpacing': 100\n",
    "}\n",
    "\n",
    "# custom node captions (default is :LabelName)\n",
    "caption = {':CompressedNode': ['name']}\n",
    "\n",
    "# connect neo4j with jupyter\n",
    "%reload_ext cy2py\n",
    "\n",
    "# url and credential\n",
    "neo4j_url = \"bolt://localhost:7688\"\n",
    "neo4j_user = \"neo4j\"\n",
    "neo4j_pwd = \"apoc\"\n",
    "\n",
    "# we check the connections, set the above custom options and create the dataset\n",
    "%cypher -u $neo4j_url -us $neo4j_user -pw $neo4j_pwd \\\n",
    "    -co $colors -la $layout -ca $caption \\\n",
    "    call apoc.cypher.runFile('movies.cypher')"
   ]
  },
  {
   "cell_type": "markdown",
   "id": "b6293a56",
   "metadata": {},
   "source": [
    "# Export and import compressed files\n",
    "\n",
    "<span style=\"color:#33f\" size=\"7\"> ***Introduced for both APOC Core and Full/Extended in 4.4.0.6*** </span>\n",
    "\n",
    "All `apoc.export.*` export procedures allows file compression.\n",
    "\n",
    "On the contrary, all `apoc.import.*` procedures and `apoc.load.*` procedures (except for `apoc.load.directory*`), \n",
    "allow the reading of a compressed file via a configuration parameter: `compression: <ALGO>`.\n",
    "\n",
    "\n"
   ]
  },
  {
   "cell_type": "markdown",
   "id": "0e9ecdb6",
   "metadata": {},
   "source": [
    "## normal way"
   ]
  },
  {
   "cell_type": "code",
   "execution_count": null,
   "id": "141c9c03",
   "metadata": {},
   "outputs": [],
   "source": [
    "%%cypher\n",
    "\n",
    "match (n:Person) with collect(n) as people\n",
    "call apoc.export.csv.data(people, [], \"normal.csv\", {}) \n",
    "yield done return done"
   ]
  },
  {
   "cell_type": "markdown",
   "id": "1fb889cc",
   "metadata": {},
   "source": [
    "## compressed way\n",
    "\n"
   ]
  },
  {
   "cell_type": "code",
   "execution_count": null,
   "id": "dadc7aed",
   "metadata": {},
   "outputs": [],
   "source": [
    "%%cypher\n",
    "\n",
    "match (n:Person) with collect(n) as people\n",
    "call apoc.export.csv.data(people, [], \"compressed.csv.gz\", {compression: 'GZIP'})\n",
    "yield done return done"
   ]
  },
  {
   "cell_type": "markdown",
   "id": "74fdbfd8",
   "metadata": {},
   "source": [
    "#### Possibile compression algorithms: \n",
    "\n",
    "- `NONE` (default)\n",
    "- `GZIP`\n",
    "- `BZIP2`\n",
    "- `DEFLATE`\n",
    "- `BLOCK_LZ4`\n",
    "- `FRAMED_SNAPPY`"
   ]
  },
  {
   "cell_type": "markdown",
   "id": "13ff4b95",
   "metadata": {},
   "source": [
    "## import and load compressed"
   ]
  },
  {
   "cell_type": "code",
   "execution_count": 12,
   "id": "fa65bfc0",
   "metadata": {},
   "outputs": [
    {
     "data": {
      "text/html": [
       "<div>\n",
       "<style scoped>\n",
       "    .dataframe tbody tr th:only-of-type {\n",
       "        vertical-align: middle;\n",
       "    }\n",
       "\n",
       "    .dataframe tbody tr th {\n",
       "        vertical-align: top;\n",
       "    }\n",
       "\n",
       "    .dataframe thead th {\n",
       "        text-align: right;\n",
       "    }\n",
       "</style>\n",
       "<table border=\"1\" class=\"dataframe tex2jax_ignore\">\n",
       "  <thead>\n",
       "    <tr style=\"text-align: right;\">\n",
       "      <th></th>\n",
       "      <th>lineNo</th>\n",
       "      <th>list</th>\n",
       "      <th>strings</th>\n",
       "      <th>map</th>\n",
       "      <th>stringMap</th>\n",
       "    </tr>\n",
       "  </thead>\n",
       "  <tbody>\n",
       "    <tr>\n",
       "      <th>0</th>\n",
       "      <td>0</td>\n",
       "      <td>[1, :Person, 1964, Keanu Reeves, , , ]</td>\n",
       "      <td>[]</td>\n",
       "      <td>{'_end': '', '_start': '', 'born': '1964', 'name': 'Keanu Reeves', '_type': '', '_id': '1', '_labels': ':Person'}</td>\n",
       "      <td>{}</td>\n",
       "    </tr>\n",
       "    <tr>\n",
       "      <th>1</th>\n",
       "      <td>1</td>\n",
       "      <td>[2, :Person, 1967, Carrie-Anne Moss, , , ]</td>\n",
       "      <td>[]</td>\n",
       "      <td>{'_end': '', '_start': '', 'born': '1967', 'name': 'Carrie-Anne Moss', '_type': '', '_id': '2', '_labels': ':Person'}</td>\n",
       "      <td>{}</td>\n",
       "    </tr>\n",
       "    <tr>\n",
       "      <th>2</th>\n",
       "      <td>2</td>\n",
       "      <td>[3, :Person, 1961, Laurence Fishburne, , , ]</td>\n",
       "      <td>[]</td>\n",
       "      <td>{'_end': '', '_start': '', 'born': '1961', 'name': 'Laurence Fishburne', '_type': '', '_id': '3', '_labels': ':Person'}</td>\n",
       "      <td>{}</td>\n",
       "    </tr>\n",
       "    <tr>\n",
       "      <th>3</th>\n",
       "      <td>3</td>\n",
       "      <td>[4, :Person, 1960, Hugo Weaving, , , ]</td>\n",
       "      <td>[]</td>\n",
       "      <td>{'_end': '', '_start': '', 'born': '1960', 'name': 'Hugo Weaving', '_type': '', '_id': '4', '_labels': ':Person'}</td>\n",
       "      <td>{}</td>\n",
       "    </tr>\n",
       "    <tr>\n",
       "      <th>4</th>\n",
       "      <td>4</td>\n",
       "      <td>[5, :Person, 1967, Lilly Wachowski, , , ]</td>\n",
       "      <td>[]</td>\n",
       "      <td>{'_end': '', '_start': '', 'born': '1967', 'name': 'Lilly Wachowski', '_type': '', '_id': '5', '_labels': ':Person'}</td>\n",
       "      <td>{}</td>\n",
       "    </tr>\n",
       "    <tr>\n",
       "      <th>...</th>\n",
       "      <td>...</td>\n",
       "      <td>...</td>\n",
       "      <td>...</td>\n",
       "      <td>...</td>\n",
       "      <td>...</td>\n",
       "    </tr>\n",
       "    <tr>\n",
       "      <th>394</th>\n",
       "      <td>394</td>\n",
       "      <td>[642, :Person, 1943, Penny Marshall, , , ]</td>\n",
       "      <td>[]</td>\n",
       "      <td>{'_end': '', '_start': '', 'born': '1943', 'name': 'Penny Marshall', '_type': '', '_id': '642', '_labels': ':Person'}</td>\n",
       "      <td>{}</td>\n",
       "    </tr>\n",
       "    <tr>\n",
       "      <th>395</th>\n",
       "      <td>395</td>\n",
       "      <td>[643, :Person, , Paul Blythe, , , ]</td>\n",
       "      <td>[]</td>\n",
       "      <td>{'_end': '', '_start': '', 'born': '', 'name': 'Paul Blythe', '_type': '', '_id': '643', '_labels': ':Person'}</td>\n",
       "      <td>{}</td>\n",
       "    </tr>\n",
       "    <tr>\n",
       "      <th>396</th>\n",
       "      <td>396</td>\n",
       "      <td>[644, :Person, , Angela Scope, , , ]</td>\n",
       "      <td>[]</td>\n",
       "      <td>{'_end': '', '_start': '', 'born': '', 'name': 'Angela Scope', '_type': '', '_id': '644', '_labels': ':Person'}</td>\n",
       "      <td>{}</td>\n",
       "    </tr>\n",
       "    <tr>\n",
       "      <th>397</th>\n",
       "      <td>397</td>\n",
       "      <td>[645, :Person, , Jessica Thompson, , , ]</td>\n",
       "      <td>[]</td>\n",
       "      <td>{'_end': '', '_start': '', 'born': '', 'name': 'Jessica Thompson', '_type': '', '_id': '645', '_labels': ':Person'}</td>\n",
       "      <td>{}</td>\n",
       "    </tr>\n",
       "    <tr>\n",
       "      <th>398</th>\n",
       "      <td>398</td>\n",
       "      <td>[646, :Person, , James Thompson, , , ]</td>\n",
       "      <td>[]</td>\n",
       "      <td>{'_end': '', '_start': '', 'born': '', 'name': 'James Thompson', '_type': '', '_id': '646', '_labels': ':Person'}</td>\n",
       "      <td>{}</td>\n",
       "    </tr>\n",
       "  </tbody>\n",
       "</table>\n",
       "<p>399 rows × 5 columns</p>\n",
       "</div>"
      ],
      "text/plain": [
       "     lineNo                                          list strings  \\\n",
       "0         0        [1, :Person, 1964, Keanu Reeves, , , ]      []   \n",
       "1         1    [2, :Person, 1967, Carrie-Anne Moss, , , ]      []   \n",
       "2         2  [3, :Person, 1961, Laurence Fishburne, , , ]      []   \n",
       "3         3        [4, :Person, 1960, Hugo Weaving, , , ]      []   \n",
       "4         4     [5, :Person, 1967, Lilly Wachowski, , , ]      []   \n",
       "..      ...                                           ...     ...   \n",
       "394     394    [642, :Person, 1943, Penny Marshall, , , ]      []   \n",
       "395     395           [643, :Person, , Paul Blythe, , , ]      []   \n",
       "396     396          [644, :Person, , Angela Scope, , , ]      []   \n",
       "397     397      [645, :Person, , Jessica Thompson, , , ]      []   \n",
       "398     398        [646, :Person, , James Thompson, , , ]      []   \n",
       "\n",
       "                                                                                                                         map  \\\n",
       "0          {'_end': '', '_start': '', 'born': '1964', 'name': 'Keanu Reeves', '_type': '', '_id': '1', '_labels': ':Person'}   \n",
       "1      {'_end': '', '_start': '', 'born': '1967', 'name': 'Carrie-Anne Moss', '_type': '', '_id': '2', '_labels': ':Person'}   \n",
       "2    {'_end': '', '_start': '', 'born': '1961', 'name': 'Laurence Fishburne', '_type': '', '_id': '3', '_labels': ':Person'}   \n",
       "3          {'_end': '', '_start': '', 'born': '1960', 'name': 'Hugo Weaving', '_type': '', '_id': '4', '_labels': ':Person'}   \n",
       "4       {'_end': '', '_start': '', 'born': '1967', 'name': 'Lilly Wachowski', '_type': '', '_id': '5', '_labels': ':Person'}   \n",
       "..                                                                                                                       ...   \n",
       "394    {'_end': '', '_start': '', 'born': '1943', 'name': 'Penny Marshall', '_type': '', '_id': '642', '_labels': ':Person'}   \n",
       "395           {'_end': '', '_start': '', 'born': '', 'name': 'Paul Blythe', '_type': '', '_id': '643', '_labels': ':Person'}   \n",
       "396          {'_end': '', '_start': '', 'born': '', 'name': 'Angela Scope', '_type': '', '_id': '644', '_labels': ':Person'}   \n",
       "397      {'_end': '', '_start': '', 'born': '', 'name': 'Jessica Thompson', '_type': '', '_id': '645', '_labels': ':Person'}   \n",
       "398        {'_end': '', '_start': '', 'born': '', 'name': 'James Thompson', '_type': '', '_id': '646', '_labels': ':Person'}   \n",
       "\n",
       "    stringMap  \n",
       "0          {}  \n",
       "1          {}  \n",
       "2          {}  \n",
       "3          {}  \n",
       "4          {}  \n",
       "..        ...  \n",
       "394        {}  \n",
       "395        {}  \n",
       "396        {}  \n",
       "397        {}  \n",
       "398        {}  \n",
       "\n",
       "[399 rows x 5 columns]"
      ]
     },
     "execution_count": 12,
     "metadata": {},
     "output_type": "execute_result"
    }
   ],
   "source": [
    "%%cypher\n",
    "CALL apoc.load.csv('compressed.csv.gz', {compression: 'GZIP'})"
   ]
  },
  {
   "cell_type": "code",
   "execution_count": null,
   "id": "da61705c",
   "metadata": {},
   "outputs": [],
   "source": [
    "%%cypher\n",
    "CALL apoc.import.csv(\n",
    "    [{fileName: 'compressed.csv.gz', labels: ['CompressedNode']}], // nodes\n",
    "    [], // rels\n",
    "    {compression: 'GZIP'})"
   ]
  },
  {
   "cell_type": "code",
   "execution_count": null,
   "id": "355885d5",
   "metadata": {},
   "outputs": [],
   "source": [
    "%%cypher\n",
    "MATCH (n:CompressedNode) RETURN n"
   ]
  },
  {
   "cell_type": "code",
   "execution_count": null,
   "id": "c067b129",
   "metadata": {},
   "outputs": [],
   "source": [
    "%%cypher\n",
    "MATCH (n:Person) RETURN n"
   ]
  },
  {
   "cell_type": "markdown",
   "id": "dfb8425e",
   "metadata": {},
   "source": [
    "## String compression\n",
    "\n",
    "<span style=\"color:#33f\" size=\"7\"> ***Introduced in APOC Core, 4.4.0.7*** </span>\n",
    "\n",
    "We can use the `apoc.util.compress` to compress a string.\n",
    "\n",
    "And vice versa, the `apoc.util.decompress` to read a compressed `byte[]`.\n",
    "\n",
    "\n",
    "We can use the same values as export/import `compression` configuration (but with default `\"GZIP\"`)\n",
    "\n",
    "\n"
   ]
  },
  {
   "cell_type": "code",
   "execution_count": 13,
   "id": "d5a075e6",
   "metadata": {},
   "outputs": [
    {
     "data": {
      "text/html": [
       "<div>\n",
       "<style scoped>\n",
       "    .dataframe tbody tr th:only-of-type {\n",
       "        vertical-align: middle;\n",
       "    }\n",
       "\n",
       "    .dataframe tbody tr th {\n",
       "        vertical-align: top;\n",
       "    }\n",
       "\n",
       "    .dataframe thead th {\n",
       "        text-align: right;\n",
       "    }\n",
       "</style>\n",
       "<table border=\"1\" class=\"dataframe tex2jax_ignore\">\n",
       "  <thead>\n",
       "    <tr style=\"text-align: right;\">\n",
       "      <th></th>\n",
       "      <th>apoc.util.compress(\"name,born\\nFoo,1999\\nBar,2001\")</th>\n",
       "    </tr>\n",
       "  </thead>\n",
       "  <tbody>\n",
       "    <tr>\n",
       "      <th>0</th>\n",
       "      <td>b'\\x1f\\x8b\\x08\\x00\\x00\\x00\\x00\\x00\\x00\\xff\\xcbK\\xccM\\xd5I\\xca/\\xca\\xe3r\\xcb\\xcf\\xd71\\xb4\\xb4\\xb4\\xe4rJ,\\xd21200\\x04\\x00\\xd6\\x15&amp;\\x7f\\x1b\\x00\\x00\\x00'</td>\n",
       "    </tr>\n",
       "  </tbody>\n",
       "</table>\n",
       "</div>"
      ],
      "text/plain": [
       "                                                                                                     apoc.util.compress(\"name,born\\nFoo,1999\\nBar,2001\")\n",
       "0  b'\\x1f\\x8b\\x08\\x00\\x00\\x00\\x00\\x00\\x00\\xff\\xcbK\\xccM\\xd5I\\xca/\\xca\\xe3r\\xcb\\xcf\\xd71\\xb4\\xb4\\xb4\\xe4rJ,\\xd21200\\x04\\x00\\xd6\\x15&\\x7f\\x1b\\x00\\x00\\x00'"
      ]
     },
     "execution_count": 13,
     "metadata": {},
     "output_type": "execute_result"
    }
   ],
   "source": [
    "%%cypher\n",
    "return apoc.util.compress(\"name,born\\nFoo,1999\\nBar,2001\")"
   ]
  },
  {
   "cell_type": "code",
   "execution_count": 14,
   "id": "ef200ba7",
   "metadata": {},
   "outputs": [
    {
     "data": {
      "text/html": [
       "<div>\n",
       "<style scoped>\n",
       "    .dataframe tbody tr th:only-of-type {\n",
       "        vertical-align: middle;\n",
       "    }\n",
       "\n",
       "    .dataframe tbody tr th {\n",
       "        vertical-align: top;\n",
       "    }\n",
       "\n",
       "    .dataframe thead th {\n",
       "        text-align: right;\n",
       "    }\n",
       "</style>\n",
       "<table border=\"1\" class=\"dataframe tex2jax_ignore\">\n",
       "  <thead>\n",
       "    <tr style=\"text-align: right;\">\n",
       "      <th></th>\n",
       "      <th>apoc.util.compress(\"name,born\\nFoo,1999\\nBar,2001\", {compression: 'DEFLATE'})</th>\n",
       "    </tr>\n",
       "  </thead>\n",
       "  <tbody>\n",
       "    <tr>\n",
       "      <th>0</th>\n",
       "      <td>b'x\\x9c\\xcbK\\xccM\\xd5I\\xca/\\xca\\xe3r\\xcb\\xcf\\xd71\\xb4\\xb4\\xb4\\xe4rJ,\\xd21200\\x04\\x00y\\xc4\\x07\\xc3'</td>\n",
       "    </tr>\n",
       "  </tbody>\n",
       "</table>\n",
       "</div>"
      ],
      "text/plain": [
       "                        apoc.util.compress(\"name,born\\nFoo,1999\\nBar,2001\", {compression: 'DEFLATE'})\n",
       "0  b'x\\x9c\\xcbK\\xccM\\xd5I\\xca/\\xca\\xe3r\\xcb\\xcf\\xd71\\xb4\\xb4\\xb4\\xe4rJ,\\xd21200\\x04\\x00y\\xc4\\x07\\xc3'"
      ]
     },
     "execution_count": 14,
     "metadata": {},
     "output_type": "execute_result"
    }
   ],
   "source": [
    "%%cypher\n",
    "return apoc.util.compress(\"name,born\\nFoo,1999\\nBar,2001\", {compression: 'DEFLATE'})"
   ]
  },
  {
   "cell_type": "code",
   "execution_count": null,
   "id": "88622c47",
   "metadata": {},
   "outputs": [],
   "source": [
    "%%cypher\n",
    "\n",
    "// with compression \"NONE\", unlike the export procedures, we return a `String.getBytes()`\n",
    "\n",
    "return apoc.util.compress(\"name,born\\nFoo,1999\\nBar,2001\", {compression: 'NONE'})"
   ]
  },
  {
   "cell_type": "markdown",
   "id": "e0043cd7",
   "metadata": {},
   "source": [
    "# Import and load binaries\n",
    "\n",
    "<span style=\"color:#33f\" size=\"7\"> ***Introduced in both APOC Core and Full/Extended in 4.4.0.6*** </span>\n",
    "\n",
    "Besides importing a file from a url, \n",
    "we can pass a `byte[]` as a parameter.\n",
    "\n",
    "Useful for cloud where you cannot store files on File system or when you don't want to expose data in the internet.\n"
   ]
  },
  {
   "cell_type": "code",
   "execution_count": 15,
   "id": "10b3cb14",
   "metadata": {},
   "outputs": [
    {
     "data": {
      "text/html": [
       "<div>\n",
       "<style scoped>\n",
       "    .dataframe tbody tr th:only-of-type {\n",
       "        vertical-align: middle;\n",
       "    }\n",
       "\n",
       "    .dataframe tbody tr th {\n",
       "        vertical-align: top;\n",
       "    }\n",
       "\n",
       "    .dataframe thead th {\n",
       "        text-align: right;\n",
       "    }\n",
       "</style>\n",
       "<table border=\"1\" class=\"dataframe tex2jax_ignore\">\n",
       "  <thead>\n",
       "    <tr style=\"text-align: right;\">\n",
       "      <th></th>\n",
       "      <th>value</th>\n",
       "    </tr>\n",
       "  </thead>\n",
       "  <tbody>\n",
       "    <tr>\n",
       "      <th>0</th>\n",
       "      <td>{'born': 2001, 'name': 'Foo'}</td>\n",
       "    </tr>\n",
       "    <tr>\n",
       "      <th>1</th>\n",
       "      <td>{'born': 2001, 'name': 'Bar'}</td>\n",
       "    </tr>\n",
       "  </tbody>\n",
       "</table>\n",
       "</div>"
      ],
      "text/plain": [
       "                           value\n",
       "0  {'born': 2001, 'name': 'Foo'}\n",
       "1  {'born': 2001, 'name': 'Bar'}"
      ]
     },
     "execution_count": 15,
     "metadata": {},
     "output_type": "execute_result"
    }
   ],
   "source": [
    "%%cypher\n",
    "\n",
    "// transform a string in `byte[]`\n",
    "with apoc.util.compress('{\"name\": \"Foo\", \"born\": 2001} {\"name\": \"Bar\", \"born\": 2001}') \n",
    "as binaryJson\n",
    "\n",
    "// read binary\n",
    "call apoc.load.json(binaryJson, \n",
    "                    null, // JsonPath parameter,\n",
    "                    {compression: 'GZIP'})\n",
    "yield value return value"
   ]
  },
  {
   "cell_type": "code",
   "execution_count": 17,
   "id": "071e9720",
   "metadata": {},
   "outputs": [
    {
     "data": {
      "text/html": [
       "<div>\n",
       "<style scoped>\n",
       "    .dataframe tbody tr th:only-of-type {\n",
       "        vertical-align: middle;\n",
       "    }\n",
       "\n",
       "    .dataframe tbody tr th {\n",
       "        vertical-align: top;\n",
       "    }\n",
       "\n",
       "    .dataframe thead th {\n",
       "        text-align: right;\n",
       "    }\n",
       "</style>\n",
       "<table border=\"1\" class=\"dataframe tex2jax_ignore\">\n",
       "  <thead>\n",
       "    <tr style=\"text-align: right;\">\n",
       "      <th></th>\n",
       "      <th>list</th>\n",
       "    </tr>\n",
       "  </thead>\n",
       "  <tbody>\n",
       "    <tr>\n",
       "      <th>0</th>\n",
       "      <td>[Foo, 1999]</td>\n",
       "    </tr>\n",
       "    <tr>\n",
       "      <th>1</th>\n",
       "      <td>[Bar, 2001]</td>\n",
       "    </tr>\n",
       "  </tbody>\n",
       "</table>\n",
       "</div>"
      ],
      "text/plain": [
       "          list\n",
       "0  [Foo, 1999]\n",
       "1  [Bar, 2001]"
      ]
     },
     "execution_count": 17,
     "metadata": {},
     "output_type": "execute_result"
    }
   ],
   "source": [
    "%%cypher\n",
    "\n",
    "// With csv and DEFLATE algorithm\n",
    "\n",
    "with apoc.util.compress('name,born\\nFoo,1999\\nBar,2001', {compression: 'DEFLATE'}) as binaryJson\n",
    "\n",
    "// read binary\n",
    "call apoc.load.csv(binaryJson,  {compression: 'DEFLATE'})\n",
    "yield list return list"
   ]
  },
  {
   "cell_type": "markdown",
   "id": "5f91138d",
   "metadata": {},
   "source": []
  },
  {
   "cell_type": "markdown",
   "id": "c3f7bf37",
   "metadata": {},
   "source": [
    "# Apache Arrow\n",
    "\n",
    "<span style=\"color:#33f\" size=\"7\"> ***Introduced in APOC Core 4.4.0.4*** </span>\n",
    "\n",
    "Apache Arrow defines a language-independent columnar memory format for flat and hierarchical data, organized for efficient analytic operations.\n",
    "\n",
    "Useful for interoperability with others with other frameworks like Spark and Kafka.\n",
    "\n",
    "todo - CONFIG, batchSize\n",
    "\n",
    "### Export procedures\n",
    "\n",
    "- \n",
    "\n",
    "### Export stream procedures:\n",
    "\n",
    "Similar e.g. to `apoc.export.csv.all(null, {stream: true, compression: '<ALGO>'})`.\n",
    "That streams a list of `byte[]` one per each batch\n",
    "-\n",
    "-\n",
    "-\n",
    "\n",
    "    \n",
    "\n",
    "### Load procedures:\n",
    "    \n",
    "- \n",
    "\n",
    "### Load stream procedures:\n",
    "It reads an Arrow `byte[]` and returns a map for each row\n"
   ]
  },
  {
   "cell_type": "code",
   "execution_count": null,
   "id": "6039c8b0",
   "metadata": {},
   "outputs": [],
   "source": [
    "%%cypher\n",
    "\n",
    "// export\n",
    "\n",
    "CALL apoc.export.arrow.query('query_test.arrow', \"MATCH (n:Person) RETURN n\")\n"
   ]
  },
  {
   "cell_type": "code",
   "execution_count": null,
   "id": "73a24839",
   "metadata": {},
   "outputs": [],
   "source": [
    "%%cypher\n",
    "\n",
    "CALL apoc.load.arrow('query_test.arrow')"
   ]
  },
  {
   "cell_type": "code",
   "execution_count": null,
   "id": "5074eaf3",
   "metadata": {},
   "outputs": [],
   "source": [
    "%%cypher\n",
    "// export stream\n",
    "\n",
    "CALL apoc.export.arrow.stream.all()"
   ]
  },
  {
   "cell_type": "code",
   "execution_count": null,
   "id": "ebf88a79",
   "metadata": {},
   "outputs": [],
   "source": [
    "%%cypher\n",
    "\n",
    "// roundtrip export-load\n",
    "\n",
    "CALL apoc.export.arrow.stream.all() YIELD value WITH value as byteArray\n",
    "CALL apoc.load.arrow.stream(byteArray) YIELD value RETURN value"
   ]
  },
  {
   "cell_type": "code",
   "execution_count": null,
   "id": "1a900aee",
   "metadata": {},
   "outputs": [],
   "source": []
  },
  {
   "cell_type": "markdown",
   "id": "7a46d985",
   "metadata": {},
   "source": [
    "<hr style=\"border:1px solid #ccc\"> \n",
    "\n",
    "# Load html with js generated code\n",
    "\n",
    "\n",
    "By default, the apoc.load.html procedure leverage the jsoup library to parse the html file:  https://jsoup.org/.\n",
    "\n",
    "\n",
    "\n",
    "But, with the following html, we cannot read the js generated code (i.e. the tag `strong`)\n",
    "```\n",
    "...\n",
    "<body>\n",
    "\t<div id=\"addStuff\"></div>\n",
    "\n",
    "\t<script type=\"text/javascript\">\n",
    "\t\tconst newTag = document.createElement(\"p\");\n",
    "\t\tnewTag.innerText = \"This is a new tag\";\n",
    "\t\tdocument.getElementById(\"addStuff\").appendChild(newTag);\n",
    "\t</script>\n",
    "</body>\n",
    "...\n",
    "```\n",
    "\n",
    "To remedy these cases, we can leverage the [Selenium WebDriver](https://www.selenium.dev/)\n",
    "which is used for automating browsers (mostly for testing purpose).\n",
    "\n",
    "With this tool, we can open a browser in headless mode, i.e. without a graphical interface, with which to interpret the js inside the html file.\n",
    "\n",
    "So unlike jsoup, it is not just parsing.\n",
    "\n",
    "\n",
    "To do this, we can pass in `$config` the option `{browser: \"CHROME\"}` or `{browser: \"FIREFOX\"}`,\n",
    "in order to read html with auto-generated js.\n",
    "\n",
    "\n",
    "#### Note\n",
    "```\n",
    "In order to use this procedure we need to download an optional jar\n",
    "https://github.com/neo4j-contrib/neo4j-apoc-procedures/releases/download/<APOC_VERSION>/apoc-selenium-dependencies-<APOC_VERSION>-all.jar,\n",
    "and put in the `plugin` folder.\n",
    "\n",
    "So for example with apoc 5.1.0, `https://github.com/neo4j-contrib/neo4j-apoc-procedures/releases/download/5.1.0/apoc-selenium-dependencies-5.1.0-all.jar`.\n",
    "\n",
    "```\n",
    "\n",
    "\n",
    "#### Cons: \n",
    "\n",
    "- Leverage an installed browser, chrome or firefox, so it's slower.\n",
    "- Require additional jars. \n",
    "\n",
    "So use only if needed, not with html which we know to be static.\n",
    "\n",
    "So if we don't need it, because we have to read an html that we know is static, better don't use it\n",
    "\n",
    "\n",
    "\n",
    "\n"
   ]
  },
  {
   "cell_type": "code",
   "execution_count": 18,
   "id": "1e12fa3d",
   "metadata": {},
   "outputs": [
    {
     "data": {
      "text/html": [
       "<div>\n",
       "<style scoped>\n",
       "    .dataframe tbody tr th:only-of-type {\n",
       "        vertical-align: middle;\n",
       "    }\n",
       "\n",
       "    .dataframe tbody tr th {\n",
       "        vertical-align: top;\n",
       "    }\n",
       "\n",
       "    .dataframe thead th {\n",
       "        text-align: right;\n",
       "    }\n",
       "</style>\n",
       "<table border=\"1\" class=\"dataframe tex2jax_ignore\">\n",
       "  <thead>\n",
       "    <tr style=\"text-align: right;\">\n",
       "      <th></th>\n",
       "      <th>value</th>\n",
       "    </tr>\n",
       "  </thead>\n",
       "  <tbody>\n",
       "    <tr>\n",
       "      <th>0</th>\n",
       "      <td>{'newNode': [{'text': 'This is a new tag', 'tagName': 'p'}, {'text': 'my paragraph', 'tagName': 'p'}]}</td>\n",
       "    </tr>\n",
       "  </tbody>\n",
       "</table>\n",
       "</div>"
      ],
      "text/plain": [
       "                                                                                                    value\n",
       "0  {'newNode': [{'text': 'This is a new tag', 'tagName': 'p'}, {'text': 'my paragraph', 'tagName': 'p'}]}"
      ]
     },
     "execution_count": 18,
     "metadata": {},
     "output_type": "execute_result"
    }
   ],
   "source": [
    "%%cypher\n",
    "\n",
    "// file with the above js code\n",
    "\n",
    "CALL apoc.load.html(\"wikipediaWithJs.html\", {newNode: 'p'}, {browser: 'CHROME'})"
   ]
  },
  {
   "cell_type": "code",
   "execution_count": 19,
   "id": "eb44d459",
   "metadata": {},
   "outputs": [
    {
     "data": {
      "text/html": [
       "<div>\n",
       "<style scoped>\n",
       "    .dataframe tbody tr th:only-of-type {\n",
       "        vertical-align: middle;\n",
       "    }\n",
       "\n",
       "    .dataframe tbody tr th {\n",
       "        vertical-align: top;\n",
       "    }\n",
       "\n",
       "    .dataframe thead th {\n",
       "        text-align: right;\n",
       "    }\n",
       "</style>\n",
       "<table border=\"1\" class=\"dataframe tex2jax_ignore\">\n",
       "  <thead>\n",
       "    <tr style=\"text-align: right;\">\n",
       "      <th></th>\n",
       "      <th>value</th>\n",
       "    </tr>\n",
       "  </thead>\n",
       "  <tbody>\n",
       "    <tr>\n",
       "      <th>0</th>\n",
       "      <td>{'newNode': [{'text': 'my paragraph', 'tagName': 'p'}]}</td>\n",
       "    </tr>\n",
       "  </tbody>\n",
       "</table>\n",
       "</div>"
      ],
      "text/plain": [
       "                                                     value\n",
       "0  {'newNode': [{'text': 'my paragraph', 'tagName': 'p'}]}"
      ]
     },
     "execution_count": 19,
     "metadata": {},
     "output_type": "execute_result"
    }
   ],
   "source": [
    "%%cypher\n",
    "\n",
    "// default way\n",
    "\n",
    "CALL apoc.load.html(\"wikipediaWithJs.html\", {newNode: 'p'}, {})"
   ]
  },
  {
   "cell_type": "markdown",
   "id": "745f77c5",
   "metadata": {},
   "source": [
    "Additionally, with `browser` equal to `CHROME` / `FIREFOX`, we can set optional various configurations which work like the configurations [described here](https://bonigarcia.dev/webdrivermanager/), in `Table 1. Configuration capabilities for driver management`.\n",
    " \n",
    "The possible configs are:\n",
    "\n",
    "- `driverVersion`\n",
    "- `browserVersion`\n",
    "- `architecture`\n",
    "- `operatingSystem`\n",
    "- `driverRepositoryUrl`\n",
    "- `versionsPropertiesUrl`\n",
    "- `commandsPropertiesUrl`\n",
    "- `cachePath`\n",
    "- `resolutionCachePath`\n",
    "- `proxy`\n",
    "- `proxyUser`\n",
    "- `proxyPass`\n",
    "- `gitHubToken`\n",
    "- `forceDownload`\n",
    "- `useBetaVersions`\n",
    "- `useMirror`\n",
    "- `avoidExport`\n",
    "- `avoidOutputTree`\n",
    "- `clearDriverCache`\n",
    "- `clearResolutionCache`\n",
    "- `avoidFallback`\n",
    "- `avoidBrowserDetection`\n",
    "- `avoidReadReleaseFromRepository`\n",
    "- `avoidTmpFolder`\n",
    "- `useLocalVersionsPropertiesFirst`\n",
    "- `timeout`\n",
    "- `ttl`\n",
    "- `ttlBrowsers`"
   ]
  },
  {
   "cell_type": "markdown",
   "id": "50c68857",
   "metadata": {},
   "source": [
    "# Load html as a string\n",
    "\n",
    "In addition to `apoc.load.html`, there is another procedure that works similarly \n",
    "and accepts the same parameter as apoc.load.html\n",
    "but returns a textual representation instead of a list of map describing the tag:\n",
    "\n",
    "`CALL apoc.load.htmlPlainText(uri, query, config)`\n"
   ]
  },
  {
   "cell_type": "code",
   "execution_count": 23,
   "id": "64bf90c8",
   "metadata": {},
   "outputs": [
    {
     "data": {
      "text/html": [
       "<div>\n",
       "<style scoped>\n",
       "    .dataframe tbody tr th:only-of-type {\n",
       "        vertical-align: middle;\n",
       "    }\n",
       "\n",
       "    .dataframe tbody tr th {\n",
       "        vertical-align: top;\n",
       "    }\n",
       "\n",
       "    .dataframe thead th {\n",
       "        text-align: right;\n",
       "    }\n",
       "</style>\n",
       "<table border=\"1\" class=\"dataframe tex2jax_ignore\">\n",
       "  <thead>\n",
       "    <tr style=\"text-align: right;\">\n",
       "      <th></th>\n",
       "      <th>valueString</th>\n",
       "      <th>valueListMap</th>\n",
       "    </tr>\n",
       "  </thead>\n",
       "  <tbody>\n",
       "    <tr>\n",
       "      <th>0</th>\n",
       "      <td>\\n - one \\n - two \\n - three \\n\\n\\nmy paragraph \\n\\n\\n</td>\n",
       "      <td>[{'data': '\n",
       "\t\tconst newTag = document.createElement(\"p\");\n",
       "\t\tnewTag.innerText = \"This is a new tag\";\n",
       "\t\tdocument.getElementById(\"addStuff\").appendChild(newTag);\n",
       "\t', 'text': 'one two three my paragraph', 'tagName': 'body'}]</td>\n",
       "    </tr>\n",
       "  </tbody>\n",
       "</table>\n",
       "</div>"
      ],
      "text/plain": [
       "                                              valueString  \\\n",
       "0  \\n - one \\n - two \\n - three \\n\\n\\nmy paragraph \\n\\n\\n   \n",
       "\n",
       "                                                                                                                                                                                                                   valueListMap  \n",
       "0  [{'data': '\n",
       "\t\tconst newTag = document.createElement(\"p\");\n",
       "\t\tnewTag.innerText = \"This is a new tag\";\n",
       "\t\tdocument.getElementById(\"addStuff\").appendChild(newTag);\n",
       "\t', 'text': 'one two three my paragraph', 'tagName': 'body'}]  "
      ]
     },
     "execution_count": 23,
     "metadata": {},
     "output_type": "execute_result"
    }
   ],
   "source": [
    "%%cypher\n",
    "\n",
    "/*\n",
    "File content\n",
    "<body>\n",
    "    ....\n",
    "\n",
    "    <ul>\n",
    "        <li>one</li>\n",
    "        <li>two</li>\n",
    "        <li>three</li>\n",
    "    </ul>\n",
    "    <br>\n",
    "    <br>\n",
    "    <p>my paragraph</p>\n",
    "</body>\n",
    "*/\n",
    "\n",
    "with \"wikipediaWithJs.html\" as url\n",
    "\n",
    "call apoc.load.htmlPlainText(url, {content: \"body\"}) \n",
    "yield value \n",
    "with url, value.content as valueString // valueString gets a textual representation\n",
    "call apoc.load.html(url, {content: \"body\"}) \n",
    "yield value return valueString, value.content as valueListMap"
   ]
  },
  {
   "cell_type": "code",
   "execution_count": 24,
   "id": "96517962",
   "metadata": {},
   "outputs": [
    {
     "data": {
      "text/html": [
       "<div>\n",
       "<style scoped>\n",
       "    .dataframe tbody tr th:only-of-type {\n",
       "        vertical-align: middle;\n",
       "    }\n",
       "\n",
       "    .dataframe tbody tr th {\n",
       "        vertical-align: top;\n",
       "    }\n",
       "\n",
       "    .dataframe thead th {\n",
       "        text-align: right;\n",
       "    }\n",
       "</style>\n",
       "<table border=\"1\" class=\"dataframe tex2jax_ignore\">\n",
       "  <thead>\n",
       "    <tr style=\"text-align: right;\">\n",
       "      <th></th>\n",
       "      <th>value</th>\n",
       "    </tr>\n",
       "  </thead>\n",
       "  <tbody>\n",
       "    <tr>\n",
       "      <th>0</th>\n",
       "      <td>{'content': '\n",
       "This is a new tag \n",
       "\n",
       " - one \n",
       " - two \n",
       " - three \n",
       "\n",
       "\n",
       "my paragraph \n",
       "\n",
       "\n",
       "'}</td>\n",
       "    </tr>\n",
       "  </tbody>\n",
       "</table>\n",
       "</div>"
      ],
      "text/plain": [
       "                                                                              value\n",
       "0  {'content': '\n",
       "This is a new tag \n",
       "\n",
       " - one \n",
       " - two \n",
       " - three \n",
       "\n",
       "\n",
       "my paragraph \n",
       "\n",
       "\n",
       "'}"
      ]
     },
     "execution_count": 24,
     "metadata": {},
     "output_type": "execute_result"
    }
   ],
   "source": [
    "%%cypher\n",
    "\n",
    "// htmlPlainText with browser \n",
    "call apoc.load.htmlPlainText(\"wikipediaWithJs.html\", {content: \"body\"}, {browser: \"CHROME\"}) "
   ]
  },
  {
   "cell_type": "markdown",
   "id": "764ecef1",
   "metadata": {},
   "source": [
    "### [NEXT CHAPTER](http://localhost:8888/notebooks/Read%2C%20write%20and%20other%20utils.ipynb)"
   ]
  }
 ],
 "metadata": {
  "kernelspec": {
   "display_name": "Python 3 (ipykernel)",
   "language": "python",
   "name": "python3"
  },
  "language_info": {
   "codemirror_mode": {
    "name": "ipython",
    "version": 3
   },
   "file_extension": ".py",
   "mimetype": "text/x-python",
   "name": "python",
   "nbconvert_exporter": "python",
   "pygments_lexer": "ipython3",
   "version": "3.9.13"
  }
 },
 "nbformat": 4,
 "nbformat_minor": 5
}
