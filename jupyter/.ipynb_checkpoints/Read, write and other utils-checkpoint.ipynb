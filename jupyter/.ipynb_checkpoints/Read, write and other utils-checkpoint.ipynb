{
 "cells": [
  {
   "cell_type": "code",
   "execution_count": null,
   "id": "48ab131d",
   "metadata": {},
   "outputs": [],
   "source": [
    "# table style\n",
    "import pandas\n",
    "pandas.set_option('display.max_colwidth', 500)\n",
    "pandas.set_option('html.use_mathjax', False)\n",
    "\n",
    "\n",
    "# custom node colors\n",
    "colors = {\n",
    "    ':Start': 'green',\n",
    "    ':Module': 'red'\n",
    "}\n",
    "\n",
    "# custom graph layout\n",
    "layout = {\n",
    "    'layout': 'cola', \n",
    "    'padding': 100,\n",
    "    'nodeSpacing': 100\n",
    "}\n",
    "\n",
    "# custom node captions (default is :LabelName)\n",
    "caption = {':CompressedNode': ['name']}\n",
    "\n",
    "# connect neo4j with jupyter\n",
    "%reload_ext cy2py\n",
    "\n",
    "# url and credential\n",
    "neo4j_url = \"bolt://localhost:7688\"\n",
    "neo4j_user = \"neo4j\"\n",
    "neo4j_pwd = \"apoc\"\n",
    "\n",
    "# we check the connections and we set the above custom options\n",
    "%cypher -u $neo4j_url -us $neo4j_user -pw $neo4j_pwd -co $colors -la $layout -ca $caption return true as connected"
   ]
  },
  {
   "cell_type": "markdown",
   "id": "8ab0c101",
   "metadata": {},
   "source": [
    "<hr style=\"border:1px solid #ccc\"> \n",
    "\n",
    "# Redis\n",
    "\n",
    "<span style=\"color:#33f\" size=\"7\"> ***Introduced in APOC Extended/Full 4.4.0.3*** </span>\n",
    "\n",
    "We have the possibility to interface to Redis, \n",
    "by emulating a lot of commands via APOC procedures.\n",
    "\n",
    "Since redis is an in-memory data structure key-value store, \n",
    "it can be used to cache Neo4j data\n",
    "and to utilize the various functions that Redis provides, such as ttl.\n",
    "\n",
    "The structure of all procedures is:\n",
    "\n",
    "- `apoc.redis.commandName(<connectionStringUrl>, ...1 or more params, $configOptionalMap) YIELD value`\n",
    "\n",
    "`connectionStringUrl` is `redis://<REDIS_PASSWORD>@<HOST>:<PORT_NUM>`\n",
    "\n",
    "`$configOptionalMap` can have:\n",
    "\n",
    "- `charset`: String (default \"UTF-8\") - The charset to encode keys and values\n",
    "- `timeout`: long (60) - timeout in seconds\n",
    "- `scriptCharset`: String (default \"UTF-8\") - The Lua script charset to encode scripts\n",
    "- `autoReconnect`: boolean (default true) - Enables or disables auto reconnection on connection loss\n",
    "- `right`: boolean (default true) - To choose the direction case of procedure with \"two sides\", for example in apoc.redis.push to choose between RPUSH and LPUSH (right/left push)\n",
    "- `codec`: `\"STRING\"` (default) or `\"BYTE_ARRAY\"`. With `BYTE_ARRAY` use byte[] to read and write keys and values. More info [here](https://lettuce.io/core/release/reference/#codecs) \n",
    "    \n",
    "#### Note\n",
    "```\n",
    "To use this procedure we need to download an optional jar\n",
    "https://github.com/neo4j-contrib/neo4j-apoc-procedures/releases/download/<APOC_VERSION>/apoc-redis-dependencies-<APOC_VERSION>-all.jar,\n",
    "and put in the `plugin` folder.\n",
    "\n",
    "So for example with apoc 5.1.0, `https://github.com/neo4j-contrib/neo4j-apoc-procedures/releases/download/5.1.0/apoc-redis-dependencies-5.1.0-all.jar`.\n",
    "\n",
    "```\n",
    "\n",
    "\n",
    "For these examples we created a simple empty redis container with host `redis:6379` and password \"redisPass\" :\n",
    "    "
   ]
  },
  {
   "cell_type": "markdown",
   "id": "13018e1f",
   "metadata": {},
   "source": [
    "### Redis String commands\n",
    "\n",
    "\n",
    "\n",
    "<table style=\"width: 90%\">\n",
    "<thead>\n",
    "    <tr><th>APOC Procedure</th><th>Equivalent Redis Command</th></tr>\n",
    "</thead>\n",
    "<tbody>\n",
    "    <tr>\n",
    "        <td>apoc.redis.getSet('url', 'myKey', 'myValue')</td>\n",
    "        <td>GETSET mykey \"myValue\"</td>\n",
    "    </tr>\n",
    "    <tr>\n",
    "        <td>apoc.redis.get('url', 'myKey')</td>\n",
    "        <td>GET mykey</td>\n",
    "    </tr>\n",
    "    <tr>\n",
    "        <td>apoc.redis.incrby('url', 'myKey', increment)</td>\n",
    "        <td>INCRBY key increment</td>\n",
    "    </tr>\n",
    "    <tr>\n",
    "        <td>apoc.redis.append('url', 'myKey', 'appendVal')</td>\n",
    "        <td>APPEND myKey 'appendVal'</td>\n",
    "    </tr>\n",
    "</tbody>\n",
    "</table>\n",
    "\n"
   ]
  },
  {
   "cell_type": "code",
   "execution_count": 24,
   "id": "3ffa3243",
   "metadata": {},
   "outputs": [
    {
     "data": {
      "text/html": [
       "<div>\n",
       "<style scoped>\n",
       "    .dataframe tbody tr th:only-of-type {\n",
       "        vertical-align: middle;\n",
       "    }\n",
       "\n",
       "    .dataframe tbody tr th {\n",
       "        vertical-align: top;\n",
       "    }\n",
       "\n",
       "    .dataframe thead th {\n",
       "        text-align: right;\n",
       "    }\n",
       "</style>\n",
       "<table border=\"1\" class=\"dataframe tex2jax_ignore\">\n",
       "  <thead>\n",
       "    <tr style=\"text-align: right;\">\n",
       "      <th></th>\n",
       "      <th>value</th>\n",
       "    </tr>\n",
       "  </thead>\n",
       "  <tbody>\n",
       "    <tr>\n",
       "      <th>0</th>\n",
       "      <td>myValue</td>\n",
       "    </tr>\n",
       "  </tbody>\n",
       "</table>\n",
       "</div>"
      ],
      "text/plain": [
       "     value\n",
       "0  myValue"
      ]
     },
     "execution_count": 24,
     "metadata": {},
     "output_type": "execute_result"
    }
   ],
   "source": [
    "%%cypher\n",
    "\n",
    "// uri => \"redis://redisPass@redis:6379\"\n",
    "\n",
    "// equivalent to redis `GETSET key value` command, i.e. set a value and returns the previous one\n",
    "CALL apoc.redis.getSet(\"redis://redisPass@redis:6379\", 'myKey', 'myValue')"
   ]
  },
  {
   "cell_type": "code",
   "execution_count": 25,
   "id": "bc1a1abf",
   "metadata": {},
   "outputs": [
    {
     "data": {
      "text/html": [
       "<div>\n",
       "<style scoped>\n",
       "    .dataframe tbody tr th:only-of-type {\n",
       "        vertical-align: middle;\n",
       "    }\n",
       "\n",
       "    .dataframe tbody tr th {\n",
       "        vertical-align: top;\n",
       "    }\n",
       "\n",
       "    .dataframe thead th {\n",
       "        text-align: right;\n",
       "    }\n",
       "</style>\n",
       "<table border=\"1\" class=\"dataframe tex2jax_ignore\">\n",
       "  <thead>\n",
       "    <tr style=\"text-align: right;\">\n",
       "      <th></th>\n",
       "      <th>value</th>\n",
       "    </tr>\n",
       "  </thead>\n",
       "  <tbody>\n",
       "    <tr>\n",
       "      <th>0</th>\n",
       "      <td>myValue</td>\n",
       "    </tr>\n",
       "  </tbody>\n",
       "</table>\n",
       "</div>"
      ],
      "text/plain": [
       "     value\n",
       "0  myValue"
      ]
     },
     "execution_count": 25,
     "metadata": {},
     "output_type": "execute_result"
    }
   ],
   "source": [
    "%%cypher\n",
    "\n",
    "// equivalent to redis `GET key` command\n",
    "CALL apoc.redis.get(\"redis://redisPass@redis:6379\", 'myKey')"
   ]
  },
  {
   "cell_type": "code",
   "execution_count": 26,
   "id": "2486e713",
   "metadata": {},
   "outputs": [
    {
     "data": {
      "text/html": [
       "<div>\n",
       "<style scoped>\n",
       "    .dataframe tbody tr th:only-of-type {\n",
       "        vertical-align: middle;\n",
       "    }\n",
       "\n",
       "    .dataframe tbody tr th {\n",
       "        vertical-align: top;\n",
       "    }\n",
       "\n",
       "    .dataframe thead th {\n",
       "        text-align: right;\n",
       "    }\n",
       "</style>\n",
       "<table border=\"1\" class=\"dataframe tex2jax_ignore\">\n",
       "  <thead>\n",
       "    <tr style=\"text-align: right;\">\n",
       "      <th></th>\n",
       "      <th>value</th>\n",
       "    </tr>\n",
       "  </thead>\n",
       "  <tbody>\n",
       "    <tr>\n",
       "      <th>0</th>\n",
       "      <td>None</td>\n",
       "    </tr>\n",
       "  </tbody>\n",
       "</table>\n",
       "</div>"
      ],
      "text/plain": [
       "  value\n",
       "0  None"
      ]
     },
     "execution_count": 26,
     "metadata": {},
     "output_type": "execute_result"
    }
   ],
   "source": [
    "%%cypher\n",
    "\n",
    "\n",
    "// with codec `BYTE_ARRAY`, key and value have to be byte[]\n",
    "\n",
    "CALL apoc.redis.getSet(\"redis://redisPass@redis:6379\", \n",
    "                       apoc.util.compress('myBytesKey', {compression: 'NONE'}), \n",
    "                       apoc.util.compress('myBytesValue', {compression: 'NONE'}), \n",
    "                       {codec: 'BYTE_ARRAY'})"
   ]
  },
  {
   "cell_type": "code",
   "execution_count": null,
   "id": "fff49a62",
   "metadata": {},
   "outputs": [],
   "source": [
    "%%cypher\n",
    "\n",
    "// equivalent to redis `GETSET key value` command, i.e. set a value and returns the previous one\n",
    "CALL apoc.redis.get(\"redis://redisPass@redis:6379\", \n",
    "                    apoc.util.compress('myBytesKey', {compression: 'NONE'}), \n",
    "                    {codec: 'BYTE_ARRAY'})"
   ]
  },
  {
   "cell_type": "code",
   "execution_count": null,
   "id": "3f5433a9",
   "metadata": {},
   "outputs": [],
   "source": [
    "%%cypher\n",
    "\n",
    "// equivalent to redis `GETSET key value` command, i.e. set a value and returns the previous one\n",
    "CALL apoc.redis.get(\"redis://redisPass@redis:6379\", \n",
    "                    apoc.util.compress('myBytesKey', {compression: 'NONE'}), \n",
    "                    {codec: 'STRING'})"
   ]
  },
  {
   "cell_type": "code",
   "execution_count": null,
   "id": "b0cfead9",
   "metadata": {},
   "outputs": [],
   "source": [
    "%%cypher\n",
    "\n",
    "// returns the new string size\n",
    "CALL apoc.redis.append(\"redis://redisPass@redis:6379\", 'myKey', 'appendValue')"
   ]
  },
  {
   "cell_type": "markdown",
   "id": "25275a12",
   "metadata": {},
   "source": [
    "\n",
    "### Redis list commands\n",
    "\n",
    "<br>\n",
    "<table style=\"width: 90%\">\n",
    "<thead>\n",
    "    <tr><th>APOC Procedure</th><th>Equivalent Redis Command</th></tr>\n",
    "</thead>\n",
    "<tbody>\n",
    "    <tr><td>CALL apoc.redis.lrange(uri, key, start, stop,, config)</td><td>LRANGE key start stop\n",
    "</td></tr>\n",
    "    <tr><td>CALL apoc.redis.push(uri, key, values, {right: false})</td><td>LPUSH key field values</td></tr>\n",
    "    <tr><td>CALL apoc.redis.push(uri, key, values, {right: true})</td><td>RPUSH key field values</td></tr>\n",
    "    <tr><td>CALL apoc.redis.pop(uri, listKey, {right: false})</td><td>LPOP key</td></tr>\n",
    "    <tr><td>CALL apoc.redis.pop(uri, listKey, {right: true})</td><td>RPOP key</td></tr>\n",
    "</tbody>\n",
    "</table>\n",
    "\n",
    "<br>\n",
    "\n",
    "### Redis set commands\n",
    "\n",
    "\n",
    "<br>\n",
    "<table style=\"width: 90%\">\n",
    "<thead>\n",
    "    <tr><th>APOC Procedure</th><th>Equivalent Redis Command</th></tr>\n",
    "</thead>\n",
    "<tbody>\n",
    "    <tr><td>CALL apoc.redis.sadd(uri, key, members, config)</td><td>SADD key members</td></tr>\n",
    "    <tr><td>CALL apoc.redis.sunion(uri, keys, config)</td><td>SUNION keys</td></tr>\n",
    "    <tr><td>CALL apoc.redis.scard(uri, key, config)</td><td>SCARD key</td></tr>\n",
    "    <tr><td>CALL apoc.redis.smembers(uri, key, config)</td><td>SMEMBERS key</td></tr>\n",
    "    <tr><td>CALL apoc.redis.spop(uri, key, config)</td><td>SPOP key</td></tr>\n",
    "</tbody>\n",
    "</table>\n",
    "\n",
    "### Redis sorted set commands\n",
    "\n",
    "\n",
    "<br>\n",
    "<table style=\"width: 90%\">\n",
    "<thead>\n",
    "    <tr><th>APOC Procedure</th><th>Equivalent Redis Command</th></tr>\n",
    "</thead>\n",
    "<tbody>\n",
    "    <tr><td>CALL apoc.redis.zadd(uri, key, scoreAndMembers, config)</td><td>ZADD key scoresAndMembers</td></tr>\n",
    "    <tr><td>CALL apoc.redis.zcard(uri, keys, config)</td><td>ZCARD key</td></tr>\n",
    "    <tr><td>CALL apoc.redis.zrangebyscore(uri, key, min, max, config)</td><td>ZRANGEBYSCORE key min max</td></tr>\n",
    "    <tr><td>CALL apoc.redis.zrem(uri, key, members, config)</td><td>ZREM key members</td></tr>\n",
    "</tbody>\n",
    "</table>\n",
    "\n",
    "### Redis hashes commands\n",
    "\n",
    "\n",
    "<br>\n",
    "<table style=\"width: 90%\">\n",
    "<thead>\n",
    "    <tr><th>APOC Procedure</th><th>Equivalent Redis Command</th></tr>\n",
    "</thead>\n",
    "<tbody>\n",
    "    <tr><td>CALL apoc.redis.hset(uri, key, field, value, config)</td><td>HSET key field value</td></tr>\n",
    "    <tr><td>CALL apoc.redis.hdel(uri, key, fields, config)</td><td>HDEL key fields</td></tr>\n",
    "    <tr><td>CALL apoc.redis.hexists(uri, key, field, config)</td><td>HEXISTS key field</td></tr>\n",
    "    <tr><td>CALL apoc.redis.hget(uri, key, field, config)</td><td>HGET key field</td></tr>\n",
    "    <tr><td>CALL apoc.redis.hincrby(uri, key, field, amount, config)</td><td>HINCRBY key field amount</td></tr>\n",
    "    <tr><td>CALL apoc.redis.hgetall(uri, key, config)</td><td>HGETALL key</td></tr>\n",
    "</tbody>\n",
    "</table>\n",
    "\n",
    "### Redis keys commands\n",
    "\n",
    "\n",
    "<br>\n",
    "<table style=\"width: 90%\">\n",
    "<thead>\n",
    "    <tr><th>APOC Procedure</th><th>Equivalent Redis Command</th></tr>\n",
    "</thead>\n",
    "<tbody>\n",
    "    <tr><td>CALL apoc.redis.copy(uri, from, to, config)</td><td>COPY from to</td></tr>\n",
    "    <tr><td>CALL apoc.redis.exists(uri, key, config)</td><td>EXISTS key</td></tr>\n",
    "    <tr><td>CALL apoc.redis.hexists(uri, key, field, config)</td><td>HEXISTS key field</td></tr>\n",
    "    <tr><td>CALL apoc.redis.pexpire(uri, key, time, false, config)</td><td>PEXPIRE key milliseconds</td></tr>\n",
    "    <tr><td>CALL apoc.redis.pexpire(uri, key, time, true, config)</td><td>PEXPIREAT key milliseconds</td></tr>\n",
    "    <tr><td>CALL apoc.redis.pttl(uri, key, config)</td><td>PTTL key</td></tr>\n",
    "    <tr><td>CALL apoc.redis.persist(uri, key, config)</td><td>PERSIST key</td></tr>\n",
    "</tbody>\n",
    "</table>\n",
    "\n",
    "\n",
    "### Redis other commands\n",
    "\n",
    "\n",
    "<br>\n",
    "<table style=\"width: 90%\">\n",
    "<thead>\n",
    "    <tr><th>APOC Procedure</th><th>Equivalent Redis Command</th></tr>\n",
    "</thead>\n",
    "<tbody>\n",
    "    <tr><td>CALL apoc.redis.eval(uri, script, outputType, keys, values, config)</td><td>EVAL script numKeys keys values</td></tr>\n",
    "    <tr><td>CALL apoc.redis.info(uri, config)</td><td>INFO</td></tr>\n",
    "    <tr><td>CALL apoc.redis.configGet(uri, parameter, config)</td><td>CONFIG GET parameter</td></tr>\n",
    "    <tr><td>CALL apoc.redis.configSet(uri, parameter, config)</td><td>CONFIG SET parameter value</td></tr>\n",
    "</tbody>\n",
    "</table>\n"
   ]
  },
  {
   "cell_type": "code",
   "execution_count": null,
   "id": "c4a7fa6e",
   "metadata": {},
   "outputs": [],
   "source": [
    "%%cypher\n",
    "\n",
    "// `LPUSH key values` command\n",
    "CALL apoc.redis.push(\"redis://redisPass@redis:6379\", \"myListKey\", ['one','two','three'])"
   ]
  },
  {
   "cell_type": "code",
   "execution_count": null,
   "id": "7d3b4805",
   "metadata": {},
   "outputs": [],
   "source": [
    "%%cypher\n",
    "\n",
    "// `LPUSH key values` command\n",
    "CALL apoc.redis.push(\"redis://redisPass@redis:6379\", \"myListKey\", ['four','five'])"
   ]
  },
  {
   "cell_type": "code",
   "execution_count": null,
   "id": "8ddd6175",
   "metadata": {},
   "outputs": [],
   "source": [
    "%%cypher\n",
    "\n",
    "// `RPUSH key values` command\n",
    "CALL apoc.redis.push(\"redis://redisPass@redis:6379\", \"myListKey\", ['zero'], {right: false})"
   ]
  },
  {
   "cell_type": "code",
   "execution_count": null,
   "id": "d9711ebd",
   "metadata": {},
   "outputs": [],
   "source": [
    "%%cypher\n",
    "CALL apoc.redis.lrange(\"redis://redisPass@redis:6379\", \"myListKey\", 0 , 10)"
   ]
  },
  {
   "cell_type": "code",
   "execution_count": null,
   "id": "5e90c932",
   "metadata": {},
   "outputs": [],
   "source": [
    "%%cypher\n",
    "\n",
    "// LPOP key, with {right: false} would be RPOP\n",
    "CALL apoc.redis.pop(\"redis://redisPass@redis:6379\", \"myListKey\", {right: false})"
   ]
  },
  {
   "cell_type": "code",
   "execution_count": null,
   "id": "abdda264",
   "metadata": {},
   "outputs": [],
   "source": [
    "%%cypher\n",
    "CALL apoc.redis.lrange(\"redis://redisPass@redis:6379\", \"myListKey\", 0 , 10)"
   ]
  },
  {
   "cell_type": "code",
   "execution_count": 31,
   "id": "b16ad986",
   "metadata": {},
   "outputs": [
    {
     "data": {
      "text/html": [
       "<div>\n",
       "<style scoped>\n",
       "    .dataframe tbody tr th:only-of-type {\n",
       "        vertical-align: middle;\n",
       "    }\n",
       "\n",
       "    .dataframe tbody tr th {\n",
       "        vertical-align: top;\n",
       "    }\n",
       "\n",
       "    .dataframe thead th {\n",
       "        text-align: right;\n",
       "    }\n",
       "</style>\n",
       "<table border=\"1\" class=\"dataframe tex2jax_ignore\">\n",
       "  <thead>\n",
       "    <tr style=\"text-align: right;\">\n",
       "      <th></th>\n",
       "      <th>value</th>\n",
       "    </tr>\n",
       "  </thead>\n",
       "  <tbody>\n",
       "    <tr>\n",
       "      <th>0</th>\n",
       "      <td>myValueEval</td>\n",
       "    </tr>\n",
       "  </tbody>\n",
       "</table>\n",
       "</div>"
      ],
      "text/plain": [
       "         value\n",
       "0  myValueEval"
      ]
     },
     "execution_count": 31,
     "metadata": {},
     "output_type": "execute_result"
    }
   ],
   "source": [
    "%%cypher\n",
    "\n",
    "// testEvalCommand - Lua script\n",
    "\n",
    "// equivalent to `EVAL \"return redis.call('set', KEYS[1], ARGV[1])\" 1 testEval myValueEval`\n",
    "// the number of keys (1) is not needed in the apoc procedure\n",
    "\n",
    "// `VALUE` is the return type of Lua script. \n",
    "// Can be a `BOOLEAN`, `INTEGER`, `STATUS`, `VALUE` or `MULTI`.\n",
    "\n",
    "\n",
    "CALL apoc.redis.eval('redis://redisPass@redis:6379', \n",
    "        'return redis.call(\"set\", KEYS[1], ARGV[1])', \n",
    "            'VALUE', \n",
    "            [\"testEval\"], // keys...\n",
    "            [\"myValueEval\"] // argv...\n",
    ");\n",
    "\n",
    "\n",
    "// set a new key\n",
    "CALL apoc.redis.get(\"redis://redisPass@redis:6379\", \"testEval\");\n"
   ]
  },
  {
   "cell_type": "code",
   "execution_count": 27,
   "id": "efb206e8",
   "metadata": {},
   "outputs": [
    {
     "data": {
      "text/html": [
       "<div>\n",
       "<style scoped>\n",
       "    .dataframe tbody tr th:only-of-type {\n",
       "        vertical-align: middle;\n",
       "    }\n",
       "\n",
       "    .dataframe tbody tr th {\n",
       "        vertical-align: top;\n",
       "    }\n",
       "\n",
       "    .dataframe thead th {\n",
       "        text-align: right;\n",
       "    }\n",
       "</style>\n",
       "<table border=\"1\" class=\"dataframe tex2jax_ignore\">\n",
       "  <thead>\n",
       "    <tr style=\"text-align: right;\">\n",
       "      <th></th>\n",
       "      <th>value</th>\n",
       "    </tr>\n",
       "  </thead>\n",
       "  <tbody>\n",
       "    <tr>\n",
       "      <th>0</th>\n",
       "      <td># Server\\r\\nredis_version:6.2.3\\r\\nredis_git_sha1:00000000\\r\\nredis_git_dirty:0\\r\\nredis_build_id:dc20d908b7b619b4\\r\\nredis_mode:standalone\\r\\nos:Linux 5.10.76-linuxkit x86_64\\r\\narch_bits:64\\r\\nmultiplexing_api:epoll\\r\\natomicvar_api:c11-builtin\\r\\ngcc_version:8.3.0\\r\\nprocess_id:1\\r\\nprocess_supervised:no\\r\\nrun_id:42d3bce844f81f08b0a0c07a21df165cb3cf3916\\r\\ntcp_port:6379\\r\\nserver_time_usec:1670892575840564\\r\\nuptime_in_seconds:18522\\r\\nuptime_in_days:0\\r\\nhz:10\\r\\nconfigured_hz:10\\r\\nlru...</td>\n",
       "    </tr>\n",
       "  </tbody>\n",
       "</table>\n",
       "</div>"
      ],
      "text/plain": [
       "                                                                                                                                                                                                                                                                                                                                                                                                                                                                                                                 value\n",
       "0  # Server\\r\\nredis_version:6.2.3\\r\\nredis_git_sha1:00000000\\r\\nredis_git_dirty:0\\r\\nredis_build_id:dc20d908b7b619b4\\r\\nredis_mode:standalone\\r\\nos:Linux 5.10.76-linuxkit x86_64\\r\\narch_bits:64\\r\\nmultiplexing_api:epoll\\r\\natomicvar_api:c11-builtin\\r\\ngcc_version:8.3.0\\r\\nprocess_id:1\\r\\nprocess_supervised:no\\r\\nrun_id:42d3bce844f81f08b0a0c07a21df165cb3cf3916\\r\\ntcp_port:6379\\r\\nserver_time_usec:1670892575840564\\r\\nuptime_in_seconds:18522\\r\\nuptime_in_days:0\\r\\nhz:10\\r\\nconfigured_hz:10\\r\\nlru..."
      ]
     },
     "execution_count": 27,
     "metadata": {},
     "output_type": "execute_result"
    }
   ],
   "source": [
    "%%cypher\n",
    "\n",
    "CALL apoc.redis.info(\"redis://redisPass@redis:6379\")"
   ]
  },
  {
   "cell_type": "code",
   "execution_count": 28,
   "id": "518d63ac",
   "metadata": {},
   "outputs": [
    {
     "data": {
      "text/html": [
       "<div>\n",
       "<style scoped>\n",
       "    .dataframe tbody tr th:only-of-type {\n",
       "        vertical-align: middle;\n",
       "    }\n",
       "\n",
       "    .dataframe tbody tr th {\n",
       "        vertical-align: top;\n",
       "    }\n",
       "\n",
       "    .dataframe thead th {\n",
       "        text-align: right;\n",
       "    }\n",
       "</style>\n",
       "<table border=\"1\" class=\"dataframe tex2jax_ignore\">\n",
       "  <thead>\n",
       "    <tr style=\"text-align: right;\">\n",
       "      <th></th>\n",
       "      <th>value</th>\n",
       "    </tr>\n",
       "  </thead>\n",
       "  <tbody>\n",
       "    <tr>\n",
       "      <th>0</th>\n",
       "      <td>{'slowlog-max-len': '128'}</td>\n",
       "    </tr>\n",
       "  </tbody>\n",
       "</table>\n",
       "</div>"
      ],
      "text/plain": [
       "                        value\n",
       "0  {'slowlog-max-len': '128'}"
      ]
     },
     "execution_count": 28,
     "metadata": {},
     "output_type": "execute_result"
    }
   ],
   "source": [
    "%%cypher\n",
    "\n",
    "CALL apoc.redis.configGet(\"redis://redisPass@redis:6379\", \"slowlog-max-len\")"
   ]
  },
  {
   "cell_type": "markdown",
   "id": "0792ff3e",
   "metadata": {},
   "source": [
    "<hr style=\"border:1px solid #ccc\"> \n",
    "\n",
    "# Detect cycles - apoc.node.cycles\n",
    "\n",
    "<span style=\"color:#33f\" size=\"7\"> ***Introduced in APOC Core 4.4.0.3*** </span>\n",
    "\n",
    "`CALL apoc.nodes.cycles([nodes], $config)` - Detect all path cycles from node list\n",
    "\n",
    "where `$config` can have:\n",
    "- `maxDepth`: max number of hops. With 0 we searching for nodes with self-relationships.\n",
    "- `relTypes` (List of Strings): the relationships types to be considered\n",
    "\n",
    "<b>Leverage the `org.neo4j.graphalgo.GraphAlgoFactory.shortestPath(...)` Algorithm</b>"
   ]
  },
  {
   "cell_type": "markdown",
   "id": "f91d1924",
   "metadata": {},
   "source": [
    "\n",
    "\n",
    "\n",
    "The below data set consists in a node alpha with 2 cycles, \n",
    "a node beta with 1 cycles, \n",
    "a gamma node without cycles, a node delta with 1 cycle (with only 1 intermediate node), \n",
    "and a epsilon node with a self-relationship:\n"
   ]
  },
  {
   "cell_type": "code",
   "execution_count": 32,
   "id": "8b5839b3",
   "metadata": {},
   "outputs": [
    {
     "data": {
      "application/vnd.jupyter.widget-view+json": {
       "model_id": "3b7c29a4d8264734b11cd00b0ca9e674",
       "version_major": 2,
       "version_minor": 0
      },
      "text/plain": [
       "CytoscapeWidget(cytoscape_layout={'name': 'cola', 'padding': 100, 'nodeSpacing': 100, 'edgeLengthVal': 10, 'an…"
      ]
     },
     "metadata": {},
     "output_type": "display_data"
    }
   ],
   "source": [
    "%%cypher\n",
    "\n",
    "// 1 mixed-rel cycle\n",
    "CREATE (m1:Start {bar: 'alpha'})-[:DEPENDS_ON {id: 0}]->(m2:Module {bar: 'one'})-[:ANOTHER {id: 1}]->(m3:Module {bar: 'two'})-[:DEPENDS_ON {id: 2}]->(m1),\n",
    "    (m1)-[:SELF_REL]->(m1);\n",
    "\n",
    "// 2 same-rel cycles, of different sizes\n",
    "CREATE (m1:Start {bar: 'gamma'}) with m1 CREATE (m1)-[:DEPENDS_ON {id: 10}]->(m:Module {bar: 'five'})-[:DEPENDS_ON {id: 11}]->(m1);\n",
    "CREATE (m1:Start {bar: 'beta'}) with m1 CREATE (m1)-[:MY_REL {id: 9}]->(m2:Module {bar: 'three'})-[:MY_REL  {id: 10}]->(:Module {bar: 'four'})-[:MY_REL {id: 11}]->(:Module {bar: 'five'})-[:MY_REL {id: 12}]->(:Module {bar: 'six'})-[:MY_REL {id: 11}]->(m1);\n",
    "\n",
    "// results\n",
    "MATCH path=(:Start)-[*]->() return path"
   ]
  },
  {
   "cell_type": "code",
   "execution_count": 33,
   "id": "4e49a9f8",
   "metadata": {},
   "outputs": [
    {
     "data": {
      "application/vnd.jupyter.widget-view+json": {
       "model_id": "0429ecc7bd24406d849f2c83802f6a46",
       "version_major": 2,
       "version_minor": 0
      },
      "text/plain": [
       "CytoscapeWidget(cytoscape_layout={'name': 'cola', 'padding': 100, 'nodeSpacing': 100, 'edgeLengthVal': 10, 'an…"
      ]
     },
     "metadata": {},
     "output_type": "display_data"
    }
   ],
   "source": [
    "%%cypher\n",
    "\n",
    "// all cycles, !!max hops config. is Integer.MAX_VALUE, so be careful!!\n",
    "MATCH (n:Start) with collect(n) as nodes \n",
    "call apoc.nodes.cycles(nodes) yield path return path"
   ]
  },
  {
   "cell_type": "code",
   "execution_count": null,
   "id": "105d7fe9",
   "metadata": {},
   "outputs": [],
   "source": [
    "%%cypher\n",
    "MATCH (n:Start) with collect(n) as nodes \n",
    "call apoc.nodes.cycles(nodes, {maxDepth: 2}) yield path return path"
   ]
  },
  {
   "cell_type": "code",
   "execution_count": null,
   "id": "8299acc0",
   "metadata": {},
   "outputs": [],
   "source": [
    "%%cypher\n",
    "\n",
    "// only self-rels\n",
    "MATCH (n:Start) with collect(n) as nodes \n",
    "call apoc.nodes.cycles(nodes, {maxDepth: 0}) yield path return path"
   ]
  },
  {
   "cell_type": "code",
   "execution_count": 37,
   "id": "fde6e570",
   "metadata": {},
   "outputs": [
    {
     "data": {
      "application/vnd.jupyter.widget-view+json": {
       "model_id": "21c8c0e5e64d42d69ac0740e5bacf27a",
       "version_major": 2,
       "version_minor": 0
      },
      "text/plain": [
       "CytoscapeWidget(cytoscape_layout={'name': 'cola', 'padding': 100, 'nodeSpacing': 100, 'edgeLengthVal': 10, 'an…"
      ]
     },
     "metadata": {},
     "output_type": "display_data"
    }
   ],
   "source": [
    "%%cypher\n",
    "\n",
    "// We can also specify a list of relationship types to detect cycles\n",
    "\n",
    "MATCH (m1:Start) WITH collect(m1) as nodes \n",
    "CALL apoc.nodes.cycles(nodes, {relTypes: [\"DEPENDS_ON\", \"MY_REL\", \"NOT_EXISTENT\"]}) YIELD path RETURN path"
   ]
  },
  {
   "cell_type": "markdown",
   "id": "f6d1d2d7",
   "metadata": {},
   "source": [
    "<hr style=\"border:1px solid #ccc\"> \n",
    "\n",
    "# Read file list\n",
    "\n",
    "\n",
    "Sometimes you may need to load multiple files from a directoriy with the same cypher query.\n",
    "\n",
    "Without this procedure we must necessarily create as many queries as there are files that we have to load.\n",
    "With this procedure we can upload multiple files at the same time.\n",
    "\n",
    "\n",
    "Unlike the other loads, it does not consider a single file, but one or more directories.\n",
    "\n",
    "\n",
    "`CALL apoc.load.directory('pattern', 'urlDir', $config) YIELD value`\n",
    "\n",
    "Loads list of all files with a specific `pattern` in folder specified by urlDir or in import folder if `urlDir` string is empty or not specified.\n",
    "\n",
    "By default, it finds recursively into subdirectories.\n",
    "\n",
    "The `pattern` leverage the `new org.apache.commons.io.filefilter.WildcardFileFilter(filter)`\n",
    "\n",
    "\n",
    "For this example we created a directory 'myFolder' and a sub-directory 'mySubFolder'\n"
   ]
  },
  {
   "cell_type": "code",
   "execution_count": 35,
   "id": "4b94f24c",
   "metadata": {},
   "outputs": [
    {
     "data": {
      "text/html": [
       "<div>\n",
       "<style scoped>\n",
       "    .dataframe tbody tr th:only-of-type {\n",
       "        vertical-align: middle;\n",
       "    }\n",
       "\n",
       "    .dataframe tbody tr th {\n",
       "        vertical-align: top;\n",
       "    }\n",
       "\n",
       "    .dataframe thead th {\n",
       "        text-align: right;\n",
       "    }\n",
       "</style>\n",
       "<table border=\"1\" class=\"dataframe tex2jax_ignore\">\n",
       "  <thead>\n",
       "    <tr style=\"text-align: right;\">\n",
       "      <th></th>\n",
       "      <th>value</th>\n",
       "    </tr>\n",
       "  </thead>\n",
       "  <tbody>\n",
       "    <tr>\n",
       "      <th>0</th>\n",
       "      <td>wikipediaWithJs.html</td>\n",
       "    </tr>\n",
       "    <tr>\n",
       "      <th>1</th>\n",
       "      <td>.DS_Store</td>\n",
       "    </tr>\n",
       "    <tr>\n",
       "      <th>2</th>\n",
       "      <td>movies.cypher</td>\n",
       "    </tr>\n",
       "    <tr>\n",
       "      <th>3</th>\n",
       "      <td>myFolder/.DS_Store</td>\n",
       "    </tr>\n",
       "    <tr>\n",
       "      <th>4</th>\n",
       "      <td>myFolder/mySubfolder/.DS_Store</td>\n",
       "    </tr>\n",
       "    <tr>\n",
       "      <th>5</th>\n",
       "      <td>myFolder/mySubfolder/fileTest.csv</td>\n",
       "    </tr>\n",
       "    <tr>\n",
       "      <th>6</th>\n",
       "      <td>myFolder/mySubfolder/fileTest2.csv</td>\n",
       "    </tr>\n",
       "    <tr>\n",
       "      <th>7</th>\n",
       "      <td>myFolder/fileTest.csv</td>\n",
       "    </tr>\n",
       "    <tr>\n",
       "      <th>8</th>\n",
       "      <td>myFolder/fileTest2.csv</td>\n",
       "    </tr>\n",
       "    <tr>\n",
       "      <th>9</th>\n",
       "      <td>query_test.arrow</td>\n",
       "    </tr>\n",
       "    <tr>\n",
       "      <th>10</th>\n",
       "      <td>loadFoo.csv</td>\n",
       "    </tr>\n",
       "    <tr>\n",
       "      <th>11</th>\n",
       "      <td>dirAsync/loadFooFile3.csv</td>\n",
       "    </tr>\n",
       "    <tr>\n",
       "      <th>12</th>\n",
       "      <td>dirAsync/loadFooFile copia.csv</td>\n",
       "    </tr>\n",
       "    <tr>\n",
       "      <th>13</th>\n",
       "      <td>dirAsync/loadFooFile2.csv</td>\n",
       "    </tr>\n",
       "    <tr>\n",
       "      <th>14</th>\n",
       "      <td>dirAsync/file.csv</td>\n",
       "    </tr>\n",
       "    <tr>\n",
       "      <th>15</th>\n",
       "      <td>dirAsync/loadFooFile copia 3.csv</td>\n",
       "    </tr>\n",
       "    <tr>\n",
       "      <th>16</th>\n",
       "      <td>dirAsync/loadFooFile copia 2.csv</td>\n",
       "    </tr>\n",
       "    <tr>\n",
       "      <th>17</th>\n",
       "      <td>dirAsync/fileCopy.csv</td>\n",
       "    </tr>\n",
       "  </tbody>\n",
       "</table>\n",
       "</div>"
      ],
      "text/plain": [
       "                                 value\n",
       "0                 wikipediaWithJs.html\n",
       "1                            .DS_Store\n",
       "2                        movies.cypher\n",
       "3                   myFolder/.DS_Store\n",
       "4       myFolder/mySubfolder/.DS_Store\n",
       "5    myFolder/mySubfolder/fileTest.csv\n",
       "6   myFolder/mySubfolder/fileTest2.csv\n",
       "7                myFolder/fileTest.csv\n",
       "8               myFolder/fileTest2.csv\n",
       "9                     query_test.arrow\n",
       "10                         loadFoo.csv\n",
       "11           dirAsync/loadFooFile3.csv\n",
       "12      dirAsync/loadFooFile copia.csv\n",
       "13           dirAsync/loadFooFile2.csv\n",
       "14                   dirAsync/file.csv\n",
       "15    dirAsync/loadFooFile copia 3.csv\n",
       "16    dirAsync/loadFooFile copia 2.csv\n",
       "17               dirAsync/fileCopy.csv"
      ]
     },
     "execution_count": 35,
     "metadata": {},
     "output_type": "execute_result"
    }
   ],
   "source": [
    "%%cypher\n",
    "call apoc.load.directory()"
   ]
  },
  {
   "cell_type": "code",
   "execution_count": 36,
   "id": "86b2f739",
   "metadata": {},
   "outputs": [
    {
     "data": {
      "text/html": [
       "<div>\n",
       "<style scoped>\n",
       "    .dataframe tbody tr th:only-of-type {\n",
       "        vertical-align: middle;\n",
       "    }\n",
       "\n",
       "    .dataframe tbody tr th {\n",
       "        vertical-align: top;\n",
       "    }\n",
       "\n",
       "    .dataframe thead th {\n",
       "        text-align: right;\n",
       "    }\n",
       "</style>\n",
       "<table border=\"1\" class=\"dataframe tex2jax_ignore\">\n",
       "  <thead>\n",
       "    <tr style=\"text-align: right;\">\n",
       "      <th></th>\n",
       "      <th>value</th>\n",
       "    </tr>\n",
       "  </thead>\n",
       "  <tbody>\n",
       "    <tr>\n",
       "      <th>0</th>\n",
       "      <td>loadFoo.csv</td>\n",
       "    </tr>\n",
       "    <tr>\n",
       "      <th>1</th>\n",
       "      <td>dirAsync/loadFooFile3.csv</td>\n",
       "    </tr>\n",
       "    <tr>\n",
       "      <th>2</th>\n",
       "      <td>dirAsync/loadFooFile copia.csv</td>\n",
       "    </tr>\n",
       "    <tr>\n",
       "      <th>3</th>\n",
       "      <td>dirAsync/loadFooFile2.csv</td>\n",
       "    </tr>\n",
       "    <tr>\n",
       "      <th>4</th>\n",
       "      <td>dirAsync/loadFooFile copia 3.csv</td>\n",
       "    </tr>\n",
       "    <tr>\n",
       "      <th>5</th>\n",
       "      <td>dirAsync/loadFooFile copia 2.csv</td>\n",
       "    </tr>\n",
       "  </tbody>\n",
       "</table>\n",
       "</div>"
      ],
      "text/plain": [
       "                              value\n",
       "0                       loadFoo.csv\n",
       "1         dirAsync/loadFooFile3.csv\n",
       "2    dirAsync/loadFooFile copia.csv\n",
       "3         dirAsync/loadFooFile2.csv\n",
       "4  dirAsync/loadFooFile copia 3.csv\n",
       "5  dirAsync/loadFooFile copia 2.csv"
      ]
     },
     "execution_count": 36,
     "metadata": {},
     "output_type": "execute_result"
    }
   ],
   "source": [
    "%%cypher\n",
    "call apoc.load.directory('load*.csv')"
   ]
  },
  {
   "cell_type": "code",
   "execution_count": 20,
   "id": "f5f63fbd",
   "metadata": {},
   "outputs": [
    {
     "data": {
      "text/html": [
       "<div>\n",
       "<style scoped>\n",
       "    .dataframe tbody tr th:only-of-type {\n",
       "        vertical-align: middle;\n",
       "    }\n",
       "\n",
       "    .dataframe tbody tr th {\n",
       "        vertical-align: top;\n",
       "    }\n",
       "\n",
       "    .dataframe thead th {\n",
       "        text-align: right;\n",
       "    }\n",
       "</style>\n",
       "<table border=\"1\" class=\"dataframe tex2jax_ignore\">\n",
       "  <thead>\n",
       "    <tr style=\"text-align: right;\">\n",
       "      <th></th>\n",
       "      <th>value</th>\n",
       "    </tr>\n",
       "  </thead>\n",
       "  <tbody>\n",
       "    <tr>\n",
       "      <th>0</th>\n",
       "      <td>myFolder/mySubfolder/fileTest.csv</td>\n",
       "    </tr>\n",
       "    <tr>\n",
       "      <th>1</th>\n",
       "      <td>myFolder/mySubfolder/fileTest2.csv</td>\n",
       "    </tr>\n",
       "    <tr>\n",
       "      <th>2</th>\n",
       "      <td>myFolder/fileTest.csv</td>\n",
       "    </tr>\n",
       "    <tr>\n",
       "      <th>3</th>\n",
       "      <td>myFolder/fileTest2.csv</td>\n",
       "    </tr>\n",
       "  </tbody>\n",
       "</table>\n",
       "</div>"
      ],
      "text/plain": [
       "                                value\n",
       "0   myFolder/mySubfolder/fileTest.csv\n",
       "1  myFolder/mySubfolder/fileTest2.csv\n",
       "2               myFolder/fileTest.csv\n",
       "3              myFolder/fileTest2.csv"
      ]
     },
     "execution_count": 20,
     "metadata": {},
     "output_type": "execute_result"
    }
   ],
   "source": [
    "%%cypher\n",
    "\n",
    "// files in subsubfolder\n",
    "CALL apoc.load.directory('*.csv', 'myFolder');"
   ]
  },
  {
   "cell_type": "code",
   "execution_count": 21,
   "id": "a51965bc",
   "metadata": {},
   "outputs": [
    {
     "data": {
      "text/html": [
       "<div>\n",
       "<style scoped>\n",
       "    .dataframe tbody tr th:only-of-type {\n",
       "        vertical-align: middle;\n",
       "    }\n",
       "\n",
       "    .dataframe tbody tr th {\n",
       "        vertical-align: top;\n",
       "    }\n",
       "\n",
       "    .dataframe thead th {\n",
       "        text-align: right;\n",
       "    }\n",
       "</style>\n",
       "<table border=\"1\" class=\"dataframe tex2jax_ignore\">\n",
       "  <thead>\n",
       "    <tr style=\"text-align: right;\">\n",
       "      <th></th>\n",
       "      <th>value</th>\n",
       "    </tr>\n",
       "  </thead>\n",
       "  <tbody>\n",
       "    <tr>\n",
       "      <th>0</th>\n",
       "      <td>myFolder/.DS_Store</td>\n",
       "    </tr>\n",
       "    <tr>\n",
       "      <th>1</th>\n",
       "      <td>myFolder/fileTest.csv</td>\n",
       "    </tr>\n",
       "    <tr>\n",
       "      <th>2</th>\n",
       "      <td>myFolder/fileTest2.csv</td>\n",
       "    </tr>\n",
       "  </tbody>\n",
       "</table>\n",
       "</div>"
      ],
      "text/plain": [
       "                    value\n",
       "0      myFolder/.DS_Store\n",
       "1   myFolder/fileTest.csv\n",
       "2  myFolder/fileTest2.csv"
      ]
     },
     "execution_count": 21,
     "metadata": {},
     "output_type": "execute_result"
    }
   ],
   "source": [
    "%%cypher\n",
    "CALL apoc.load.directory(\"*\", 'myFolder', {recursive: false})"
   ]
  },
  {
   "cell_type": "code",
   "execution_count": 22,
   "id": "59299703",
   "metadata": {},
   "outputs": [
    {
     "data": {
      "text/html": [
       "<div>\n",
       "<style scoped>\n",
       "    .dataframe tbody tr th:only-of-type {\n",
       "        vertical-align: middle;\n",
       "    }\n",
       "\n",
       "    .dataframe tbody tr th {\n",
       "        vertical-align: top;\n",
       "    }\n",
       "\n",
       "    .dataframe thead th {\n",
       "        text-align: right;\n",
       "    }\n",
       "</style>\n",
       "<table border=\"1\" class=\"dataframe tex2jax_ignore\">\n",
       "  <thead>\n",
       "    <tr style=\"text-align: right;\">\n",
       "      <th></th>\n",
       "      <th>map</th>\n",
       "      <th>url</th>\n",
       "    </tr>\n",
       "  </thead>\n",
       "  <tbody>\n",
       "    <tr>\n",
       "      <th>0</th>\n",
       "      <td>{'surname': 'Jager', 'name': 'Eren'}</td>\n",
       "      <td>myFolder/mySubfolder/fileTest2.csv</td>\n",
       "    </tr>\n",
       "    <tr>\n",
       "      <th>1</th>\n",
       "      <td>{'surname': 'Ackermann', 'name': 'Mikasa'}</td>\n",
       "      <td>myFolder/mySubfolder/fileTest2.csv</td>\n",
       "    </tr>\n",
       "    <tr>\n",
       "      <th>2</th>\n",
       "      <td>{'surname': 'Arelet', 'name': 'Armin'}</td>\n",
       "      <td>myFolder/mySubfolder/fileTest2.csv</td>\n",
       "    </tr>\n",
       "    <tr>\n",
       "      <th>3</th>\n",
       "      <td>{'surname': 'Haruno', 'name': 'Sakura'}</td>\n",
       "      <td>myFolder/mySubfolder/fileTest.csv</td>\n",
       "    </tr>\n",
       "    <tr>\n",
       "      <th>4</th>\n",
       "      <td>{'surname': 'Uzumaki', 'name': 'Naruto'}</td>\n",
       "      <td>myFolder/mySubfolder/fileTest.csv</td>\n",
       "    </tr>\n",
       "    <tr>\n",
       "      <th>5</th>\n",
       "      <td>{'surname': 'Uchiha', 'name': 'Sasuke'}</td>\n",
       "      <td>myFolder/mySubfolder/fileTest.csv</td>\n",
       "    </tr>\n",
       "  </tbody>\n",
       "</table>\n",
       "</div>"
      ],
      "text/plain": [
       "                                          map  \\\n",
       "0        {'surname': 'Jager', 'name': 'Eren'}   \n",
       "1  {'surname': 'Ackermann', 'name': 'Mikasa'}   \n",
       "2      {'surname': 'Arelet', 'name': 'Armin'}   \n",
       "3     {'surname': 'Haruno', 'name': 'Sakura'}   \n",
       "4    {'surname': 'Uzumaki', 'name': 'Naruto'}   \n",
       "5     {'surname': 'Uchiha', 'name': 'Sasuke'}   \n",
       "\n",
       "                                  url  \n",
       "0  myFolder/mySubfolder/fileTest2.csv  \n",
       "1  myFolder/mySubfolder/fileTest2.csv  \n",
       "2  myFolder/mySubfolder/fileTest2.csv  \n",
       "3   myFolder/mySubfolder/fileTest.csv  \n",
       "4   myFolder/mySubfolder/fileTest.csv  \n",
       "5   myFolder/mySubfolder/fileTest.csv  "
      ]
     },
     "execution_count": 22,
     "metadata": {},
     "output_type": "execute_result"
    }
   ],
   "source": [
    "%%cypher\n",
    "\n",
    "/* use case example - load multiple file at the same time\n",
    "instead of doing this for each file:\n",
    "CALL apoc.load.csv('file1.csv', {results:['map']}) yield value ... do something...;\n",
    "CALL apoc.load.csv('file2.csv', {results:['map']}) yield value ... do something;\n",
    "*/\n",
    "\n",
    "\n",
    "/*  in loadDirSubfolder there are 2 files\n",
    "    fileTest.csv                  fileTest2.csv\n",
    "    ---                           ---\n",
    "    name,surname                  name,surname\n",
    "    Sakura,Haruno                 Eren,Jager\n",
    "    Naruto,Uzumaki                Mikasa,Ackermann\n",
    "    Sasuke,Uchiha                 Armin,Arelet\n",
    "*/\n",
    "\n",
    "\n",
    "\n",
    "\n",
    "CALL apoc.load.directory('*.csv', 'myFolder/mySubfolder')\n",
    "yield value WITH value\n",
    "CALL apoc.load.csv(url, {results:['map']}) \n",
    "\n",
    "// do something...\n",
    "\n",
    "YIELD map RETURN map, url"
   ]
  },
  {
   "cell_type": "markdown",
   "id": "41dc0780",
   "metadata": {},
   "source": [
    "\n",
    "<hr style=\"border:1px solid #ccc\"> \n",
    "\n",
    "# Load directory async\n",
    "\n",
    "\n",
    "`apoc.load.directory.async.add(name, cypher, pattern, urlDir, $config)`\n",
    "\n",
    "Add (or replace) a folder listener with a specific `name`, pattern and url directory that execute the specified cypher query when an event is triggered and return listener list.\n",
    "\n",
    "\n",
    "Add a directory listener to handle changes in it.\n",
    "\n",
    "Useful to create a custom data ingestion tool.\n",
    "\n",
    "\n",
    "The first parameter is the name of our custom watch listener.\n",
    "If we use an already existing listener name, that listener will be overwritten.\n",
    "The second parameter is the cypher query that will be executed.\n",
    "The `cypher` can have the following parameters:\n",
    "\n",
    "* `$fileName`: the name of the file which triggered the event\n",
    "* `$filePath`: the absolute path of the file which triggered the event if `apoc.import.file.use_neo4j_config=false`, otherwise the relative path starting from `$IMPORT_DIR`\n",
    "* `$fileDirectory`: the absolute path directory of the file which triggered the event if `apoc.import.file.use_neo4j_config=false`, otherwise the relative path starting from `$IMPORT_DIR`\n",
    "* `$listenEventType`: the triggered event (\"CREATE\", \"DELETE\" or \"MODIFY\"). The event `\"CREATE\"` happens when a file is inserted in the folder,\n",
    "`\"DELETE\"` when a file is removed from the folder and `\"MODIFY\"` when a file in the folder is changed.\n",
    "Please note that if a file is renamed, will be triggered 2 event, that is first \"DELETE\" and then\"CREATE\"\n",
    "\n",
    "The third parameter is the pattern of file to search for. By default is '*', that is, search all files. The fourth is the search path of directory. By default is an empty string, that is, search file in import directory.\n",
    "The 4th parameter is the directory url.\n",
    "\n",
    "In `config` whe can put:\n",
    "- `listenEventType`: List of types of event that execute the cypher query, `CREATE`, `DELETE` or `MODIFY`\n",
    "- `interval` (default: 1000): Interval in ms after re-watch for directory changes\n",
    "\n",
    "\n",
    "\n",
    "Other procedures:\n",
    "- `CALL apoc.load.directory.async.list()`\n",
    "- `CALL apoc.load.directory.async.remove(name)`\n",
    "- `CALL apoc.load.directory.async.removeAll()`\n",
    "\n"
   ]
  },
  {
   "cell_type": "code",
   "execution_count": null,
   "id": "e068932c",
   "metadata": {},
   "outputs": [],
   "source": [
    "%%cypher\n",
    "\n",
    "// when we create a file in `dirAsync`, \n",
    "// we create a node `TestDir` with the file name, the csv map content and the event type\n",
    "\n",
    "CALL apoc.load.directory.async.add('customDirAsync',\n",
    "    \"CALL apoc.load.csv($filePath) \n",
    "        yield map with map create (n:TestDir) \n",
    "        set n.fileName = $fileName, n.event = $listenEventType, n += map\",\n",
    "    \"*.csv\", \n",
    "    \"dirAsync\",\n",
    "    {listenEventType: ['CREATE']})"
   ]
  },
  {
   "cell_type": "code",
   "execution_count": null,
   "id": "7ae8893c",
   "metadata": {},
   "outputs": [],
   "source": [
    "%%cypher\n",
    "\n",
    "// check results\n",
    "match (n:TestDir) return properties(n)"
   ]
  },
  {
   "cell_type": "code",
   "execution_count": null,
   "id": "debd980b",
   "metadata": {},
   "outputs": [],
   "source": [
    "%%cypher\n",
    "\n",
    "// error handling\n",
    "CALL apoc.load.directory.async.add('another', \"CREATE (:Stuff)\", \"*.csv\", \"notExistentPath\")\n",
    "yield name, error"
   ]
  },
  {
   "cell_type": "markdown",
   "id": "234ad312",
   "metadata": {},
   "source": [
    "### Listener list"
   ]
  },
  {
   "cell_type": "code",
   "execution_count": null,
   "id": "d7fd5007",
   "metadata": {},
   "outputs": [],
   "source": [
    "%%cypher\n",
    "\n",
    "// list\n",
    "CALL apoc.load.directory.async.list"
   ]
  },
  {
   "cell_type": "markdown",
   "id": "f19a04a3",
   "metadata": {},
   "source": [
    "### Remove listener"
   ]
  },
  {
   "cell_type": "code",
   "execution_count": null,
   "id": "0cda6748",
   "metadata": {},
   "outputs": [],
   "source": [
    "%%cypher\n",
    "\n",
    "// or via CALL apoc.load.directory.async.remove(<listenerName>)\n",
    "CALL apoc.load.directory.async.removeAll"
   ]
  },
  {
   "cell_type": "markdown",
   "id": "c98b0643",
   "metadata": {},
   "source": [
    "\n",
    "---\n",
    "---\n",
    "\n",
    "\n",
    "## THANKS FOR YOUR ATTENTION\n",
    "\n",
    "---\n",
    "---"
   ]
  }
 ],
 "metadata": {
  "kernelspec": {
   "display_name": "Python 3 (ipykernel)",
   "language": "python",
   "name": "python3"
  },
  "language_info": {
   "codemirror_mode": {
    "name": "ipython",
    "version": 3
   },
   "file_extension": ".py",
   "mimetype": "text/x-python",
   "name": "python",
   "nbconvert_exporter": "python",
   "pygments_lexer": "ipython3",
   "version": "3.9.13"
  },
  "tags": [
   "hide-input"
  ]
 },
 "nbformat": 4,
 "nbformat_minor": 5
}
